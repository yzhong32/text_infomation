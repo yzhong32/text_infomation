{
 "cells": [
  {
   "cell_type": "code",
   "execution_count": 1,
   "id": "b3bfff21-2fb5-4e3f-ad9f-7a29aa013ceb",
   "metadata": {
    "editable": true,
    "slideshow": {
     "slide_type": ""
    },
    "tags": []
   },
   "outputs": [],
   "source": [
    "import pandas as pd\n",
    "import numpy as np\n",
    "import re\n",
    "import string\n",
    "import nltk\n",
    "from nltk.corpus import stopwords\n",
    "from collections import defaultdict\n",
    "from nltk.stem import PorterStemmer"
   ]
  },
  {
   "cell_type": "code",
   "execution_count": 2,
   "id": "53456924-5ac2-4f43-810c-3014a3ebbae0",
   "metadata": {
    "editable": true,
    "slideshow": {
     "slide_type": ""
    },
    "tags": []
   },
   "outputs": [],
   "source": [
    "# 1 Text Data Parsing and Vocabulary Selection(15 points)"
   ]
  },
  {
   "cell_type": "code",
   "execution_count": 3,
   "id": "5a2cb9f7-22b7-4e5d-9521-394c003c031a",
   "metadata": {
    "editable": true,
    "slideshow": {
     "slide_type": ""
    },
    "tags": []
   },
   "outputs": [],
   "source": [
    "def preprocess_text(text):\n",
    "    text = text.lower()\n",
    "    text = text.replace('\\\\', ' ')\n",
    "    text = re.sub(f'[{string.punctuation}]', '', text)\n",
    "    text = re.sub(r'\\d+', '', text)\n",
    "    words = text.split()\n",
    "    stop_words = set(stopwords.words('english'))\n",
    "    stemmer = PorterStemmer()\n",
    "    words = [stemmer.stem(word) for word in words if word not in stop_words]\n",
    "    return ' '.join(words)\n",
    "\n",
    "def create_vocabulary(text, top_n=200):\n",
    "    stemmer = PorterStemmer()\n",
    "    \n",
    "    vocabulary = []\n",
    "    cnt = defaultdict(int)\n",
    "    for t in text:\n",
    "        wds = t.split()\n",
    "        for wd in wds:\n",
    "            w = stemmer.stem(wd)\n",
    "            cnt[w] += 1\n",
    "    for k in cnt:\n",
    "        vocabulary.append((k, cnt[k]))\n",
    "    vocabulary.sort(reverse=True, key=lambda x: x[1])\n",
    "    vocabulary = vocabulary[:top_n]\n",
    "    return [v[0] for v in vocabulary]"
   ]
  },
  {
   "cell_type": "code",
   "execution_count": 4,
   "id": "791c7782-e8ab-427b-a18c-d0b36961c026",
   "metadata": {
    "editable": true,
    "slideshow": {
     "slide_type": ""
    },
    "tags": []
   },
   "outputs": [
    {
     "name": "stdout",
     "output_type": "stream",
     "text": [
      "['said', 'new', 'us', 'reuter', 'year', 'compani', 'ap', 'first', 'two', 'monday', 'wednesday', 'world', 'tuesday', 'thursday', 'report', 'inc', 'one', 'friday', 'york', 'yesterday', 'state', 'game', 'week', 'quot', 'million', 'last', 'presid', 'say', 'nation', 'unit', 'time', 'corp', 'offici', 'govern', 'plan', 'peopl', 'day', 'would', 'secur', 'today', 'price', 'sunday', 'could', 'oil', 'group', 'servic', 'announc', 'team', 'three', 'kill', 'win', 'market', 'open', 'season', 'saturday', 'month', 'iraq', 'softwar', 'second', 'end', 'night', 'percent', 'make', 'lead', 'next', 'back', 'busi', 'comput', 'microsoft', 'minist', 'countri', 'intern', 'may', 'system', 'use', 'internet', 'billion', 'former', 'record', 'expect', 'american', 'citi', 'share', 'technolog', 'network', 'washington', 'research', 'relea', 'take', 'stock', 'help', 'leader', 'oper', 'start', 'final', 'forc', 'european', 'feder', 'home', 'victori', 'run', 'top', 'set', 'sale', 'player', 'san', 'giant', 'manag', 'maker', 'like', 'bank', 'offer', 'leagu', 'trade', 'elect', 'get', 'afp', 'move', 'four', 'prime', 'call', 'product', 'attack', 'major', 'deal', 'accord', 'made', 'news', 'execut', 'play', 'phone', 'sport', 'includ', 'court', 'coach', 'third', 'profit', 'agr', 'work', 'onlin', 'bush', 'industri', 'iraqi', 'show', 'chief', 'charg', 'cut', 'japan', 'point', 'launch', 'go', 'talk', 'power', 'hit', 'seri', 'way', 'cup', 'china', 'largest', 'british', 'least', 'financ', 'search', 'develop', 'gener', 'lta', 'olymp', 'london', 'close', 'quarter', 'look', 'union', 'even', 'baghdad', 'come', 'provid', 'job', 'co', 'five', 'champion', 'offic', 'mani', 'warn', 'web', 'increa', 'hope', 'high', 'head', 'polic', 'earn', 'space', 'face', 'tri', 'rate', 'rise', 'part', 'sinc', 'firm', 'score', 'bomb']\n"
     ]
    }
   ],
   "source": [
    "data_path = './CharCnn_Keras/data/ag_news_csv/train.csv'\n",
    "test_data_path = './CharCnn_Keras/data/ag_news_csv/test.csv'\n",
    "\n",
    "df = pd.read_csv(data_path, names=['class', 'title', 'description']).sample(12000)\n",
    "df['description'] = df['description'].apply(preprocess_text)\n",
    "\n",
    "test_df = pd.read_csv(test_data_path, names=['class', 'title', 'description'])\n",
    "test_df['description'] = test_df['description'].apply(preprocess_text)\n",
    "\n",
    "vocabulary = create_vocabulary(df['description'])\n",
    "print(vocabulary)"
   ]
  },
  {
   "cell_type": "code",
   "execution_count": 5,
   "id": "b15909ff-68e1-4b7c-94a6-db59b8f78614",
   "metadata": {
    "editable": true,
    "slideshow": {
     "slide_type": ""
    },
    "tags": []
   },
   "outputs": [],
   "source": [
    "# 2 Document Relevance with Vector Space Basic Model (25 points)"
   ]
  },
  {
   "cell_type": "code",
   "execution_count": 6,
   "id": "23398ae7-38a4-4762-97b5-da4c54f25b4a",
   "metadata": {
    "editable": true,
    "slideshow": {
     "slide_type": ""
    },
    "tags": []
   },
   "outputs": [],
   "source": [
    "def preprocess_queries(queries):\n",
    "    stemmer = PorterStemmer()\n",
    "    for i, query in enumerate(queries):\n",
    "        wds = query.split()\n",
    "        queries[i] = ' '.join([stemmer.stem(wd) for wd in wds])\n",
    "        \n",
    "    doc_freq = {}\n",
    "    test_doc_freq = {}\n",
    "    for query in queries:\n",
    "        wds = query.split()\n",
    "        for w in wds:\n",
    "            doc_freq[w] = sum([1 for d in df['description'] if w in d.split()])\n",
    "            test_doc_freq[w] = sum([1 for d in test_df['description'] if w in d.split()])\n",
    "    return doc_freq, test_doc_freq\n",
    "\n",
    "queries = [\"olympic gold athens\", \"reuters stocks friday\", \"investment market prices\"]\n",
    "doc_freq, test_doc_freq = preprocess_queries(queries)"
   ]
  },
  {
   "cell_type": "code",
   "execution_count": 7,
   "id": "8aef0c74-9d1b-446c-a9b4-48cbac734405",
   "metadata": {
    "editable": true,
    "slideshow": {
     "slide_type": ""
    },
    "tags": []
   },
   "outputs": [],
   "source": [
    "def compute_relevance_VSB(query, doc, normalization=False):\n",
    "    wds = doc.split()\n",
    "    score = 0\n",
    "    for wd in query.split():\n",
    "        if wd in wds:\n",
    "            score += 1\n",
    "    if normalization:\n",
    "        doc_length = len(doc.split())\n",
    "        if doc_length > 0:\n",
    "            score /= doc_length\n",
    "        else:\n",
    "            score = 0\n",
    "    return score"
   ]
  },
  {
   "cell_type": "code",
   "execution_count": 8,
   "id": "060cb8ff-4de2-4ee4-bc2c-190aee7b410a",
   "metadata": {
    "editable": true,
    "slideshow": {
     "slide_type": ""
    },
    "tags": []
   },
   "outputs": [
    {
     "name": "stdout",
     "output_type": "stream",
     "text": [
      "Query: olymp gold athen\n",
      "Top 10:\n",
      "Index: 66, Score: 3, Description: ireland look certain strip gold medal athen olymp nation popular hors waterford crystal test posit ban drug\n",
      "Index: 687, Score: 3, Description: athen tom pappa us gold medal favorit decathlon saw quest olymp crown dash yesterday seriou foot injuri forc withdraw pole vault portion event competit\n",
      "Index: 748, Score: 3, Description: irish showjump cian connor face lose olymp gold medal btest blood sampl confirm trace ban substanc hors rode victori athen\n",
      "Index: 829, Score: 3, Description: athen bigger moment mari lou retton quotnofault vault quot produc america first olymp allaround gold medal women\n",
      "Index: 1503, Score: 3, Description: total gold medal award wednesday athen olymp day five medal alreadi award includ archeri boat shoot event well judo cycl weightlift\n",
      "Index: 1972, Score: 3, Description: ethiopia meseret defar women meter gold medal olymp game athen august yearold women winner year world indoor championship budapest clock minut\n",
      "Index: 1995, Score: 3, Description: athen eleg symmetri athen athen glori back glori us women soccer team first olymp gold medal eight year ago athen ga begin fouryear reign top world last night mighti struggl american return hold relentless brazil\n",
      "Index: 2667, Score: 3, Description: athen greec olymp supremo jacqu rogg today offer gold medal round athen organis superb olymp year doom gloom lead open\n",
      "Index: 2807, Score: 3, Description: part bsampl show jump hors ireland gold medal athen olymp stolen intern equestrian feder said yesterday\n",
      "Index: 3036, Score: 3, Description: athen homeland favorit fani halkia greec cheer compatriot olymp stadium roar victori women meter hurdl wednesday night take gold medal time\n",
      "Bottom 10:\n",
      "Index: 11990, Score: 0, Description: email secur compani frontbridg technolog inc bought messagerit inc irvin california maker technolog archiv email instant messag frontbridg said monday\n",
      "Index: 11991, Score: 0, Description: jami mcmurray took one look assembl crowd five dozen journalist bank televis camera roam gang still photograph reconsid wardrob\n",
      "Index: 11992, Score: 0, Description: spur led mani point third quarter piston stay aggress san antonio got sloppi end despit detroit valiant comeback spur hung victori\n",
      "Index: 11993, Score: 0, Description: britain stephen dodd fire fourunderpar clinch maiden european tour titl threeshot victori china open sunday\n",
      "Index: 11994, Score: 0, Description: kabul decemb hamid karzai sworn afghanistan first popularli elect presid tuesday promis bring peac wartorn nation end economi depend narcot\n",
      "Index: 11995, Score: 0, Description: us casino giant caesar plan build gambl leisur resort besid new wembley stadium london first foray europ\n",
      "Index: 11996, Score: 0, Description: australia took complet control first test day three bangalor build lead india india bowl ad last three wicket parthiv patel make patient\n",
      "Index: 11997, Score: 0, Description: bronx ny jon lieber continu septemb hot streak pitch eighth inning derek jeter hit solo homer help new york clinch playoff berth th straight season win tampa bay muchawait makeup\n",
      "Index: 11998, Score: 0, Description: tuesday microsoft warn custom sever product vulner flaw way handl jpeg graphic imag\n",
      "Index: 11999, Score: 0, Description: reuter judg corrupt trial prime minist silvio berlusconi withdrew thursday decid verdict could hobbl italian leader polit futur\n",
      "\n",
      "\n",
      "Query: reuter stock friday\n",
      "Top 10:\n",
      "Index: 797, Score: 3, Description: new york reuter us stock bare budg friday afternoon data gave mix pictur economi grew slowerthanexpect pace third quarter\n",
      "Index: 1477, Score: 3, Description: singapor reuter oil price held firm friday leap almost day earlier news us crude stock sank fivemonth low last week distil fuel bare grew ahead winter\n",
      "Index: 1587, Score: 3, Description: new york reuter us stock rose broadbas advanc friday morn oil price eas data show factori activ last month met economist estim technolog share extend recent gain\n",
      "Index: 2548, Score: 3, Description: new york reuter stock fell friday led pharmaceut share us health offici rais concern drug safeti drop chipequip maker follow rate downgrad goldman sach\n",
      "Index: 3080, Score: 3, Description: london reuter oil price held firm friday leap almost day earlier us govern said crude stock sank sixth straight week distil fuel bare grew ahead winter\n",
      "Index: 3871, Score: 3, Description: tokyo reuter tokyo stock end flat friday worri recordhigh oil price took edg investor appetit recent batter technolog issu sharp corp\n",
      "Index: 4061, Score: 3, Description: new york reuter stock set open higher friday ford motor co lta hrefhttpwwwinvestorreuterscomfullquoteaspxtickerfn targetstocksquickinfofullquotegtfnltagt rais earn forecast billion share buyback texa instrument inc lta hrefhttpwwwinvestorreuterscomfullquoteaspxtickertxnn targetstocksquickinfofullquotegttxnnltagt could support technolog stock\n",
      "Index: 4389, Score: 3, Description: reuter appl comput inc share fell percent friday needham co analyst lower invest rate stock hold say much potenti upsid compani busi reflect current stock price\n",
      "Index: 4424, Score: 3, Description: new york reuter stock set open flat friday investor expect market stem recent loss high oil price fuel concern slow corpor profit consum spend\n",
      "Index: 4951, Score: 3, Description: new york reuter stock rose sharpli friday heavi trade softwar compani peoplesoft inc chiprel stock boost nasdaq standard poor index highest close three month\n",
      "Bottom 10:\n",
      "Index: 11989, Score: 0, Description: beij aug xinhuanet michael phelp taken haul gold medal athen olymp three win meter butterfli help unit state beat australia x freestyl relay shenzhen daili report\n",
      "Index: 11990, Score: 0, Description: email secur compani frontbridg technolog inc bought messagerit inc irvin california maker technolog archiv email instant messag frontbridg said monday\n",
      "Index: 11991, Score: 0, Description: jami mcmurray took one look assembl crowd five dozen journalist bank televis camera roam gang still photograph reconsid wardrob\n",
      "Index: 11992, Score: 0, Description: spur led mani point third quarter piston stay aggress san antonio got sloppi end despit detroit valiant comeback spur hung victori\n",
      "Index: 11993, Score: 0, Description: britain stephen dodd fire fourunderpar clinch maiden european tour titl threeshot victori china open sunday\n",
      "Index: 11994, Score: 0, Description: kabul decemb hamid karzai sworn afghanistan first popularli elect presid tuesday promis bring peac wartorn nation end economi depend narcot\n",
      "Index: 11995, Score: 0, Description: us casino giant caesar plan build gambl leisur resort besid new wembley stadium london first foray europ\n",
      "Index: 11996, Score: 0, Description: australia took complet control first test day three bangalor build lead india india bowl ad last three wicket parthiv patel make patient\n",
      "Index: 11997, Score: 0, Description: bronx ny jon lieber continu septemb hot streak pitch eighth inning derek jeter hit solo homer help new york clinch playoff berth th straight season win tampa bay muchawait makeup\n",
      "Index: 11998, Score: 0, Description: tuesday microsoft warn custom sever product vulner flaw way handl jpeg graphic imag\n",
      "\n",
      "\n",
      "Query: invest market price\n",
      "Top 10:\n",
      "Index: 144, Score: 2, Description: googl inc share surg twice initi public offer price thirdquart profit sale doubl compani said market web advertis show sign slow\n",
      "Index: 943, Score: 2, Description: reuter us oil price slid tuesday mark third success session fall iraqi export return near normal although suppli uncertainti kept market close histor level\n",
      "Index: 965, Score: 2, Description: london j sainsburi take million pound billion hit profit year invest boost sale revers fall market share britain thirdbiggest supermarket chain said tuesday\n",
      "Index: 1205, Score: 2, Description: new york reuter crude price near record high mute advanc us stock market open thursday investor get divers googl inc lta hrefhttpwwwinvestorreuterscomfullquoteaspxtickergoogo targetstocksquickinfofullquotegtgoogoltagt begin trade initi public offer\n",
      "Index: 1458, Score: 2, Description: forbescom kibitz said write declin truck market figur would ahead curv say market peak oversatur chang consum tast rise ga price recent appear attract sedan wagon\n",
      "Index: 1872, Score: 2, Description: cann franc reuter concern soar oil price terror inject fresh caution global market last six month execut investor said technolog confer cann\n",
      "Index: 1883, Score: 2, Description: us stock futur point flat market open thursday volatil oil price investor await key econom report comment feder reserv bank chairman friday\n",
      "Index: 1982, Score: 2, Description: tokyo nintendo co ltd struck first blow set allout war soni corp lucr handheld game consol market aggress price new dualscreen model\n",
      "Index: 2535, Score: 2, Description: tide quotdefinit quot turn seller hous market lead properti expert said today publish figur show price fallen two consecut month\n",
      "Index: 2683, Score: 2, Description: australian share market start week littl red high crude oil price prompt investor caution ordinari slip almost three point\n",
      "Bottom 10:\n",
      "Index: 11990, Score: 0, Description: email secur compani frontbridg technolog inc bought messagerit inc irvin california maker technolog archiv email instant messag frontbridg said monday\n",
      "Index: 11991, Score: 0, Description: jami mcmurray took one look assembl crowd five dozen journalist bank televis camera roam gang still photograph reconsid wardrob\n",
      "Index: 11992, Score: 0, Description: spur led mani point third quarter piston stay aggress san antonio got sloppi end despit detroit valiant comeback spur hung victori\n",
      "Index: 11993, Score: 0, Description: britain stephen dodd fire fourunderpar clinch maiden european tour titl threeshot victori china open sunday\n",
      "Index: 11994, Score: 0, Description: kabul decemb hamid karzai sworn afghanistan first popularli elect presid tuesday promis bring peac wartorn nation end economi depend narcot\n",
      "Index: 11995, Score: 0, Description: us casino giant caesar plan build gambl leisur resort besid new wembley stadium london first foray europ\n",
      "Index: 11996, Score: 0, Description: australia took complet control first test day three bangalor build lead india india bowl ad last three wicket parthiv patel make patient\n",
      "Index: 11997, Score: 0, Description: bronx ny jon lieber continu septemb hot streak pitch eighth inning derek jeter hit solo homer help new york clinch playoff berth th straight season win tampa bay muchawait makeup\n",
      "Index: 11998, Score: 0, Description: tuesday microsoft warn custom sever product vulner flaw way handl jpeg graphic imag\n",
      "Index: 11999, Score: 0, Description: reuter judg corrupt trial prime minist silvio berlusconi withdrew thursday decid verdict could hobbl italian leader polit futur\n",
      "\n",
      "\n"
     ]
    }
   ],
   "source": [
    "# 2.1 train set\n",
    "for query in queries:\n",
    "    scores = []\n",
    "    for i, doc in enumerate(df['description']):\n",
    "        scores.append((i, compute_relevance_VSB(query, doc)))\n",
    "    scores.sort(reverse=True, key=lambda x: x[1])\n",
    "    print(f\"Query: {query}\")\n",
    "    print(\"Top 10:\")\n",
    "    for i, score in scores[:10]:\n",
    "        print(f\"Index: {i}, Score: {score}, Description: {df['description'].iloc[i]}\")\n",
    "    print(\"Bottom 10:\")\n",
    "    for i, score in scores[-10:]:\n",
    "        print(f\"Index: {i}, Score: {score}, Description: {df['description'].iloc[i]}\")\n",
    "    print('\\n')"
   ]
  },
  {
   "cell_type": "code",
   "execution_count": 9,
   "id": "0f5fcb79-c433-4084-95f4-de6951630b5e",
   "metadata": {
    "editable": true,
    "slideshow": {
     "slide_type": ""
    },
    "tags": []
   },
   "outputs": [
    {
     "name": "stdout",
     "output_type": "stream",
     "text": [
      "Query: olymp gold athen\n",
      "Top 5:\n",
      "Index: 138, Score: 3, Description: sheik ahm bin hashr almaktoum earn firstev olymp medal unit arab emir took home gold medal men doubl trap shoot tuesday athen\n",
      "Index: 158, Score: 3, Description: athen reuter weari michael phelp target fourth olymp gold medal athen turn attent wednesday meter individu medley settl secondfastest overal time heat\n",
      "Index: 177, Score: 3, Description: athen dutch cycl great leontien zijlaardvan moorsel emot defend olymp time trial gold medal\n",
      "Index: 179, Score: 3, Description: amsterdam cyclist leontien zijlaardvan moorsel first gold medal netherland athen olymp game wednesday\n",
      "Index: 197, Score: 3, Description: leontien zijlaardvan moorsel netherland wipe tear win gold medal women road cycl individu time trial vouliagmeni olymp centr athen wednesday\n",
      "Bottom 5:\n",
      "Index: 7595, Score: 0, Description: ukrainian presidenti candid viktor yushchenko poison harm known dioxin contain agent orang scientist analyz blood said friday\n",
      "Index: 7596, Score: 0, Description: suppli attract pitch option dwindl daili lost pedro martinez met miss tim hudson resign randi johnson becom yanke red sox struck last night come term free agent matt clement threeyear deal pay righthand neighborhood\n",
      "Index: 7597, Score: 0, Description: like roger clemen almost exactli eight year earlier pedro martinez left red sox appar bitter way treat manag\n",
      "Index: 7598, Score: 0, Description: singapor doctor unit state warn painkil bextra celebrex may link major cardiovascular problem prescrib\n",
      "Index: 7599, Score: 0, Description: ebay plan buy apart home rental servic rentcom million ad alreadi exhaust breadth offer\n",
      "\n",
      "\n",
      "Query: reuter stock friday\n",
      "Top 5:\n",
      "Index: 710, Score: 3, Description: new york reuter us stock futur nearli unchang friday investor await key data economi could determin market earli direct\n",
      "Index: 1928, Score: 3, Description: tokyo reuter nikkei averag fell third straight session hit twoweek close low friday renew earn concern prompt sell tokyo electron ltd soni corp hightech stock\n",
      "Index: 2394, Score: 3, Description: tokyo reuter tokyo nikkei averag drop percent midafternoon friday cours sixth day loss worri high oil price uncertainti us econom market outlook hit broad rang stock\n",
      "Index: 2440, Score: 3, Description: new york reuter us secur regul may file suit morningstar inc provid mutual fund stock research incorrect data publish mutual fund compani said friday\n",
      "Index: 2970, Score: 3, Description: washington reuter feder reserv chairman alan greenspan friday said worri congress would tri thwart effort financi account standard board requir expens stock option\n",
      "Bottom 5:\n",
      "Index: 7594, Score: 0, Description: washington outgo secretari state colin l powel said yesterday doesnt regret public face bush administr intern call war iraq also believ diplomaci make headway contain nuclear threat iran north korea said interview\n",
      "Index: 7596, Score: 0, Description: suppli attract pitch option dwindl daili lost pedro martinez met miss tim hudson resign randi johnson becom yanke red sox struck last night come term free agent matt clement threeyear deal pay righthand neighborhood\n",
      "Index: 7597, Score: 0, Description: like roger clemen almost exactli eight year earlier pedro martinez left red sox appar bitter way treat manag\n",
      "Index: 7598, Score: 0, Description: singapor doctor unit state warn painkil bextra celebrex may link major cardiovascular problem prescrib\n",
      "Index: 7599, Score: 0, Description: ebay plan buy apart home rental servic rentcom million ad alreadi exhaust breadth offer\n",
      "\n",
      "\n",
      "Query: invest market price\n",
      "Top 5:\n",
      "Index: 239, Score: 2, Description: new york reuter share googl inc make nasdaq stock market debut thursday year anticip initi public offer price far initi estim rais billion\n",
      "Index: 320, Score: 2, Description: new york reuter us treasuri price paus breath tuesday blister twosess ralli ran steam though analyst still saw room upsid given larg shortbas market\n",
      "Index: 922, Score: 2, Description: ap unsettl report consum incom set spate profittak wall street monday investor worri tepid economi would erod compani thirdquart earn anoth drop oil price fail shake gloom market\n",
      "Index: 1297, Score: 2, Description: reuter price comput screen expect fall less percent fourth quarter market stabil hope pickup demand christma season usbas research firm said tuesday\n",
      "Index: 1618, Score: 2, Description: ibm push power line server low end market take linux unwrap aggress price seri linuxonli system monday go offer sun microsystem hewlettpackard\n",
      "Bottom 5:\n",
      "Index: 7595, Score: 0, Description: ukrainian presidenti candid viktor yushchenko poison harm known dioxin contain agent orang scientist analyz blood said friday\n",
      "Index: 7596, Score: 0, Description: suppli attract pitch option dwindl daili lost pedro martinez met miss tim hudson resign randi johnson becom yanke red sox struck last night come term free agent matt clement threeyear deal pay righthand neighborhood\n",
      "Index: 7597, Score: 0, Description: like roger clemen almost exactli eight year earlier pedro martinez left red sox appar bitter way treat manag\n",
      "Index: 7598, Score: 0, Description: singapor doctor unit state warn painkil bextra celebrex may link major cardiovascular problem prescrib\n",
      "Index: 7599, Score: 0, Description: ebay plan buy apart home rental servic rentcom million ad alreadi exhaust breadth offer\n",
      "\n",
      "\n"
     ]
    }
   ],
   "source": [
    "# 2.2 test set\n",
    "for query in queries:\n",
    "    scores = []\n",
    "    for i, doc in enumerate(test_df['description']):\n",
    "        scores.append((i, compute_relevance_VSB(query, doc)))\n",
    "    scores.sort(reverse=True, key=lambda x: x[1])\n",
    "    print(f\"Query: {query}\")\n",
    "    print(\"Top 5:\")\n",
    "    for i, score in scores[:5]:\n",
    "        print(f\"Index: {i}, Score: {score}, Description: {test_df['description'].iloc[i]}\")\n",
    "    print(\"Bottom 5:\")\n",
    "    for i, score in scores[-5:]:\n",
    "        print(f\"Index: {i}, Score: {score}, Description: {test_df['description'].iloc[i]}\")\n",
    "    print('\\n')"
   ]
  },
  {
   "cell_type": "code",
   "execution_count": 10,
   "id": "9db6fca8-6020-4197-a846-1ae19bc84b61",
   "metadata": {
    "editable": true,
    "slideshow": {
     "slide_type": ""
    },
    "tags": []
   },
   "outputs": [],
   "source": [
    "# 3 Document Relevance with Vector Space TF-IDF Model (40 points)"
   ]
  },
  {
   "cell_type": "code",
   "execution_count": 11,
   "id": "04fff2ae-eaba-4c27-ac57-f323637367c3",
   "metadata": {
    "editable": true,
    "slideshow": {
     "slide_type": ""
    },
    "tags": []
   },
   "outputs": [],
   "source": [
    "def compute_relevance_TF_IDF(query, doc, docs, N, avgdl, doc_freq, k=1.2, b=0.75, normalization=False):\n",
    "    wds = doc.split()\n",
    "    \n",
    "    score = 0\n",
    "    for w in query.split():\n",
    "        freq = wds.count(w)\n",
    "        tf = (freq * (k + 1)) / (freq + k * (1 - b + b * len(wds) / avgdl))\n",
    "        f = doc_freq[w]\n",
    "        idf = np.log((N + 1) / (f + 1))\n",
    "        score += tf * idf\n",
    "\n",
    "    if normalization:\n",
    "        doc_length = len(doc.split())\n",
    "        if doc_length > 0:\n",
    "            score /= doc_length\n",
    "        else:\n",
    "            score = 0\n",
    "    return score"
   ]
  },
  {
   "cell_type": "code",
   "execution_count": 12,
   "id": "008c0ea4-972c-4de3-ad81-2ece5360dd7b",
   "metadata": {
    "editable": true,
    "slideshow": {
     "slide_type": ""
    },
    "tags": []
   },
   "outputs": [
    {
     "name": "stdout",
     "output_type": "stream",
     "text": [
      "Query: olymp gold athen\n",
      "Top 10:\n",
      "Index: 2667, Score: 16.324211881317666, Description: athen greec olymp supremo jacqu rogg today offer gold medal round athen organis superb olymp year doom gloom lead open\n",
      "Index: 10408, Score: 14.791925866155143, Description: athen aug xinhuanet american carli patterson runnerup world took women individu allaround gymnast gold medal point athen olymp friday even\n",
      "Index: 2807, Score: 14.274166801251479, Description: part bsampl show jump hors ireland gold medal athen olymp stolen intern equestrian feder said yesterday\n",
      "Index: 5501, Score: 14.061825139435866, Description: athen natasa janic hungari captur women k kayak gold medal team katalin kovac win k deni birgit fischer recordequal ninth career olymp gold\n",
      "Index: 66, Score: 13.957465971163131, Description: ireland look certain strip gold medal athen olymp nation popular hors waterford crystal test posit ban drug\n",
      "Index: 829, Score: 13.957465971163131, Description: athen bigger moment mari lou retton quotnofault vault quot produc america first olymp allaround gold medal women\n",
      "Index: 7413, Score: 13.957465971163131, Description: fourtim olymp gold medallist matthew pinsent morn announc retir row three month final triumph athen coxless four\n",
      "Index: 10485, Score: 13.567072486862925, Description: athen world record holder paula radcliff still pick piec burn women marathon athen olymp gold medal winner mizuki noguchi simpli bask glori ponder next move\n",
      "Index: 11319, Score: 13.393035793538097, Description: athen windsurf gal fridman countri first gold medal sinc israel began compet olymp helsinki captur men mistral sailboard titl agio kosma olymp sail centr wednesday\n",
      "Index: 5115, Score: 13.364432832266683, Description: yler hamilton bobbi julich show depth american cycl win gold bronz medal today men individu time trial olymp athen\n",
      "Bottom 10:\n",
      "Index: 11990, Score: 0.0, Description: email secur compani frontbridg technolog inc bought messagerit inc irvin california maker technolog archiv email instant messag frontbridg said monday\n",
      "Index: 11991, Score: 0.0, Description: jami mcmurray took one look assembl crowd five dozen journalist bank televis camera roam gang still photograph reconsid wardrob\n",
      "Index: 11992, Score: 0.0, Description: spur led mani point third quarter piston stay aggress san antonio got sloppi end despit detroit valiant comeback spur hung victori\n",
      "Index: 11993, Score: 0.0, Description: britain stephen dodd fire fourunderpar clinch maiden european tour titl threeshot victori china open sunday\n",
      "Index: 11994, Score: 0.0, Description: kabul decemb hamid karzai sworn afghanistan first popularli elect presid tuesday promis bring peac wartorn nation end economi depend narcot\n",
      "Index: 11995, Score: 0.0, Description: us casino giant caesar plan build gambl leisur resort besid new wembley stadium london first foray europ\n",
      "Index: 11996, Score: 0.0, Description: australia took complet control first test day three bangalor build lead india india bowl ad last three wicket parthiv patel make patient\n",
      "Index: 11997, Score: 0.0, Description: bronx ny jon lieber continu septemb hot streak pitch eighth inning derek jeter hit solo homer help new york clinch playoff berth th straight season win tampa bay muchawait makeup\n",
      "Index: 11998, Score: 0.0, Description: tuesday microsoft warn custom sever product vulner flaw way handl jpeg graphic imag\n",
      "Index: 11999, Score: 0.0, Description: reuter judg corrupt trial prime minist silvio berlusconi withdrew thursday decid verdict could hobbl italian leader polit futur\n",
      "\n",
      "\n",
      "Query: reuter stock friday\n",
      "Top 10:\n",
      "Index: 7490, Score: 10.456544580354024, Description: new york reuter us stock open higher friday oil price retreat tech stock show strength open day fourth quarter\n",
      "Index: 4951, Score: 9.599266886433476, Description: new york reuter stock rose sharpli friday heavi trade softwar compani peoplesoft inc chiprel stock boost nasdaq standard poor index highest close three month\n",
      "Index: 4389, Score: 9.295517788872921, Description: reuter appl comput inc share fell percent friday needham co analyst lower invest rate stock hold say much potenti upsid compani busi reflect current stock price\n",
      "Index: 797, Score: 9.04526671289868, Description: new york reuter us stock bare budg friday afternoon data gave mix pictur economi grew slowerthanexpect pace third quarter\n",
      "Index: 4061, Score: 8.743590473640669, Description: new york reuter stock set open higher friday ford motor co lta hrefhttpwwwinvestorreuterscomfullquoteaspxtickerfn targetstocksquickinfofullquotegtfnltagt rais earn forecast billion share buyback texa instrument inc lta hrefhttpwwwinvestorreuterscomfullquoteaspxtickertxnn targetstocksquickinfofullquotegttxnnltagt could support technolog stock\n",
      "Index: 3871, Score: 8.676609743104612, Description: tokyo reuter tokyo stock end flat friday worri recordhigh oil price took edg investor appetit recent batter technolog issu sharp corp\n",
      "Index: 4989, Score: 8.676609743104612, Description: new york reuter us stock fell sharpli friday investor jolt jump oil price warn feder reserv chairman alan greenspan dollar fall\n",
      "Index: 9041, Score: 8.676609743104612, Description: new york reuter us stock open flat friday govern report show us economi grew slowli second quarter rate match economist forecast\n",
      "Index: 9175, Score: 8.503325184712356, Description: london reuter european stock slip dollar soften friday rise crude oil price toward barrel rais prospect slower econom growth support bond price\n",
      "Index: 8652, Score: 8.336826591700978, Description: new york reuter stock seen open littl chang monday crude price remain high insur may dip worri potenti liabil hurrican struck florida friday\n",
      "Bottom 10:\n",
      "Index: 11989, Score: 0.0, Description: beij aug xinhuanet michael phelp taken haul gold medal athen olymp three win meter butterfli help unit state beat australia x freestyl relay shenzhen daili report\n",
      "Index: 11990, Score: 0.0, Description: email secur compani frontbridg technolog inc bought messagerit inc irvin california maker technolog archiv email instant messag frontbridg said monday\n",
      "Index: 11991, Score: 0.0, Description: jami mcmurray took one look assembl crowd five dozen journalist bank televis camera roam gang still photograph reconsid wardrob\n",
      "Index: 11992, Score: 0.0, Description: spur led mani point third quarter piston stay aggress san antonio got sloppi end despit detroit valiant comeback spur hung victori\n",
      "Index: 11993, Score: 0.0, Description: britain stephen dodd fire fourunderpar clinch maiden european tour titl threeshot victori china open sunday\n",
      "Index: 11994, Score: 0.0, Description: kabul decemb hamid karzai sworn afghanistan first popularli elect presid tuesday promis bring peac wartorn nation end economi depend narcot\n",
      "Index: 11995, Score: 0.0, Description: us casino giant caesar plan build gambl leisur resort besid new wembley stadium london first foray europ\n",
      "Index: 11996, Score: 0.0, Description: australia took complet control first test day three bangalor build lead india india bowl ad last three wicket parthiv patel make patient\n",
      "Index: 11997, Score: 0.0, Description: bronx ny jon lieber continu septemb hot streak pitch eighth inning derek jeter hit solo homer help new york clinch playoff berth th straight season win tampa bay muchawait makeup\n",
      "Index: 11998, Score: 0.0, Description: tuesday microsoft warn custom sever product vulner flaw way handl jpeg graphic imag\n",
      "\n",
      "\n",
      "Query: invest market price\n",
      "Top 10:\n",
      "Index: 8092, Score: 8.865173305112029, Description: wont quibbl invest perform celebr quota quiet top gun sept tell frankli sad way ed owen quotbeat market quot year fund quotdomin invest big pharmaceut compani quot\n",
      "Index: 6609, Score: 8.635819273161221, Description: imf world econom outlook warn possibl sharp fall uk hous price base interest rate rise price futur market market would probabl slow significantli next month\n",
      "Index: 4476, Score: 8.45891879297225, Description: albani ny rs invest manag agre pay million dollar settl alleg allow quotexcess quot market time mutual fund\n",
      "Index: 6126, Score: 8.279214999539018, Description: infoworld ibm shore commit mainfram comput platform thursday seri new technolog invest emerg market new industryfocus solut new partnership\n",
      "Index: 2834, Score: 8.240361259647516, Description: uk hous price fell octob confirm soften hous market halifax said uk biggest mortgag lender said price rose\n",
      "Index: 6916, Score: 8.10698773446463, Description: afp lg philip lcd invest five billion dollar new facil produc nextgener flat panel display order strengthen global market leadership\n",
      "Index: 9605, Score: 7.821813631406496, Description: look around long see appl aapl ampp invest rank star hold recent price ipod digit music player made wave pop cultur\n",
      "Index: 7676, Score: 7.694665249613264, Description: crude oil price rose slightli wednesday fall two straight day market brace crucial us oil report could presag renew upward move price\n",
      "Index: 4463, Score: 7.663063072111706, Description: home buyer owner warn yesterday two separ survey properti market hous price continu fall\n",
      "Index: 965, Score: 7.630773304687587, Description: london j sainsburi take million pound billion hit profit year invest boost sale revers fall market share britain thirdbiggest supermarket chain said tuesday\n",
      "Bottom 10:\n",
      "Index: 11990, Score: 0.0, Description: email secur compani frontbridg technolog inc bought messagerit inc irvin california maker technolog archiv email instant messag frontbridg said monday\n",
      "Index: 11991, Score: 0.0, Description: jami mcmurray took one look assembl crowd five dozen journalist bank televis camera roam gang still photograph reconsid wardrob\n",
      "Index: 11992, Score: 0.0, Description: spur led mani point third quarter piston stay aggress san antonio got sloppi end despit detroit valiant comeback spur hung victori\n",
      "Index: 11993, Score: 0.0, Description: britain stephen dodd fire fourunderpar clinch maiden european tour titl threeshot victori china open sunday\n",
      "Index: 11994, Score: 0.0, Description: kabul decemb hamid karzai sworn afghanistan first popularli elect presid tuesday promis bring peac wartorn nation end economi depend narcot\n",
      "Index: 11995, Score: 0.0, Description: us casino giant caesar plan build gambl leisur resort besid new wembley stadium london first foray europ\n",
      "Index: 11996, Score: 0.0, Description: australia took complet control first test day three bangalor build lead india india bowl ad last three wicket parthiv patel make patient\n",
      "Index: 11997, Score: 0.0, Description: bronx ny jon lieber continu septemb hot streak pitch eighth inning derek jeter hit solo homer help new york clinch playoff berth th straight season win tampa bay muchawait makeup\n",
      "Index: 11998, Score: 0.0, Description: tuesday microsoft warn custom sever product vulner flaw way handl jpeg graphic imag\n",
      "Index: 11999, Score: 0.0, Description: reuter judg corrupt trial prime minist silvio berlusconi withdrew thursday decid verdict could hobbl italian leader polit futur\n",
      "\n",
      "\n"
     ]
    }
   ],
   "source": [
    "# 3.1 train set\n",
    "N = len(df['description'])\n",
    "avgdl = sum([len(d.split()) for d in df['description']]) / N\n",
    "\n",
    "for query in queries:\n",
    "    scores = []\n",
    "    for i, doc in enumerate(df['description']):\n",
    "        scores.append((i, compute_relevance_TF_IDF(query, doc, df['description'], N, avgdl, doc_freq)))\n",
    "    scores.sort(reverse=True, key=lambda x: x[1])\n",
    "    print(f\"Query: {query}\")\n",
    "    print(\"Top 10:\")\n",
    "    for i, score in scores[:10]:\n",
    "        print(f\"Index: {i}, Score: {score}, Description: {df['description'].iloc[i]}\")\n",
    "    print(\"Bottom 10:\")\n",
    "    for i, score in scores[-10:]:\n",
    "        print(f\"Index: {i}, Score: {score}, Description: {df['description'].iloc[i]}\")\n",
    "    print('\\n')"
   ]
  },
  {
   "cell_type": "code",
   "execution_count": 13,
   "id": "f6ad60c2-358f-49ac-83cc-e098012aca2b",
   "metadata": {
    "editable": true,
    "slideshow": {
     "slide_type": ""
    },
    "tags": []
   },
   "outputs": [
    {
     "name": "stdout",
     "output_type": "stream",
     "text": [
      "Query: olymp gold athen\n",
      "Top 5:\n",
      "Index: 260, Score: 15.781793527929878, Description: athen reuter aaron peirsol second gold medal athen olymp thursday win appeal disqualif men meter backstrok\n",
      "Index: 334, Score: 15.682551118041918, Description: tang gonghong lift world record claim athen th olymp gold china sinc particip olymp game saturday\n",
      "Index: 179, Score: 15.196573608999902, Description: amsterdam cyclist leontien zijlaardvan moorsel first gold medal netherland athen olymp game wednesday\n",
      "Index: 177, Score: 14.834774860079579, Description: athen dutch cycl great leontien zijlaardvan moorsel emot defend olymp time trial gold medal\n",
      "Index: 2393, Score: 14.834774860079579, Description: american cyclist tyler hamilton keep gold medal athen olymp test lab mishandl blood sampl\n",
      "Bottom 5:\n",
      "Index: 7595, Score: 0.0, Description: ukrainian presidenti candid viktor yushchenko poison harm known dioxin contain agent orang scientist analyz blood said friday\n",
      "Index: 7596, Score: 0.0, Description: suppli attract pitch option dwindl daili lost pedro martinez met miss tim hudson resign randi johnson becom yanke red sox struck last night come term free agent matt clement threeyear deal pay righthand neighborhood\n",
      "Index: 7597, Score: 0.0, Description: like roger clemen almost exactli eight year earlier pedro martinez left red sox appar bitter way treat manag\n",
      "Index: 7598, Score: 0.0, Description: singapor doctor unit state warn painkil bextra celebrex may link major cardiovascular problem prescrib\n",
      "Index: 7599, Score: 0.0, Description: ebay plan buy apart home rental servic rentcom million ad alreadi exhaust breadth offer\n",
      "\n",
      "\n",
      "Query: reuter stock friday\n",
      "Top 5:\n",
      "Index: 710, Score: 8.980881022847477, Description: new york reuter us stock futur nearli unchang friday investor await key data economi could determin market earli direct\n",
      "Index: 2970, Score: 8.276537368111196, Description: washington reuter feder reserv chairman alan greenspan friday said worri congress would tri thwart effort financi account standard board requir expens stock option\n",
      "Index: 3887, Score: 8.276537368111196, Description: reuter video chain blockbust inc friday said would lower price onlin dvd rental undercut similar move netflix inc spark stock selloff compani share\n",
      "Index: 4850, Score: 8.276537368111196, Description: reuter stock googl inc power new high friday buoy web search leader new product growth prospect complement recent strong financi result analyst said\n",
      "Index: 6793, Score: 8.276537368111196, Description: new york reuter us stock littl chang thursday paus wednesday sharp ralli investor reluct wade market intel midquart updat close friday job report\n",
      "Bottom 5:\n",
      "Index: 7594, Score: 0.0, Description: washington outgo secretari state colin l powel said yesterday doesnt regret public face bush administr intern call war iraq also believ diplomaci make headway contain nuclear threat iran north korea said interview\n",
      "Index: 7596, Score: 0.0, Description: suppli attract pitch option dwindl daili lost pedro martinez met miss tim hudson resign randi johnson becom yanke red sox struck last night come term free agent matt clement threeyear deal pay righthand neighborhood\n",
      "Index: 7597, Score: 0.0, Description: like roger clemen almost exactli eight year earlier pedro martinez left red sox appar bitter way treat manag\n",
      "Index: 7598, Score: 0.0, Description: singapor doctor unit state warn painkil bextra celebrex may link major cardiovascular problem prescrib\n",
      "Index: 7599, Score: 0.0, Description: ebay plan buy apart home rental servic rentcom million ad alreadi exhaust breadth offer\n",
      "\n",
      "\n",
      "Query: invest market price\n",
      "Top 5:\n",
      "Index: 3672, Score: 8.642562869230634, Description: quotappl invest heavili technolog edit pictur portabl devic show seem obviou oversight would correct price display\n",
      "Index: 4161, Score: 8.435548542314347, Description: effort expand market share firm say invest disney moneylos busi new york reuter children place retail store inc\n",
      "Index: 2395, Score: 7.936775850504436, Description: london reuter us treasuri price rose friday ralli japanes govern bond jgb price help market recov ground previou day selloff\n",
      "Index: 4335, Score: 7.936775850504436, Description: us treasuri price rose friday potent combin record high oil price slump stock kept market particip jitteri potenti slower growth\n",
      "Index: 4096, Score: 7.919116279209007, Description: j sainsburi take million million hit profit year invest boost sale revers fall market share britain thirdbiggest supermarket chain said tuesday\n",
      "Bottom 5:\n",
      "Index: 7595, Score: 0.0, Description: ukrainian presidenti candid viktor yushchenko poison harm known dioxin contain agent orang scientist analyz blood said friday\n",
      "Index: 7596, Score: 0.0, Description: suppli attract pitch option dwindl daili lost pedro martinez met miss tim hudson resign randi johnson becom yanke red sox struck last night come term free agent matt clement threeyear deal pay righthand neighborhood\n",
      "Index: 7597, Score: 0.0, Description: like roger clemen almost exactli eight year earlier pedro martinez left red sox appar bitter way treat manag\n",
      "Index: 7598, Score: 0.0, Description: singapor doctor unit state warn painkil bextra celebrex may link major cardiovascular problem prescrib\n",
      "Index: 7599, Score: 0.0, Description: ebay plan buy apart home rental servic rentcom million ad alreadi exhaust breadth offer\n",
      "\n",
      "\n"
     ]
    }
   ],
   "source": [
    "# 3.2 test set\n",
    "N = len(test_df['description'])\n",
    "avgdl = sum([len(d.split()) for d in test_df['description']]) / N\n",
    "\n",
    "for query in queries:\n",
    "    scores = []\n",
    "    for i, doc in enumerate(test_df['description']):\n",
    "        scores.append((i, compute_relevance_TF_IDF(query, doc, test_df['description'], N, avgdl, test_doc_freq)))\n",
    "    scores.sort(reverse=True, key=lambda x: x[1])\n",
    "    print(f\"Query: {query}\")\n",
    "    print(\"Top 5:\")\n",
    "    for i, score in scores[:5]:\n",
    "        print(f\"Index: {i}, Score: {score}, Description: {test_df['description'].iloc[i]}\")\n",
    "    print(\"Bottom 5:\")\n",
    "    for i, score in scores[-5:]:\n",
    "        print(f\"Index: {i}, Score: {score}, Description: {test_df['description'].iloc[i]}\")\n",
    "    print('\\n')"
   ]
  },
  {
   "cell_type": "code",
   "execution_count": 14,
   "id": "57766e70-4ae8-4520-956d-1c4fd4f4b236",
   "metadata": {
    "editable": true,
    "slideshow": {
     "slide_type": ""
    },
    "tags": []
   },
   "outputs": [],
   "source": [
    "# 4 Document Relevance with Word2Vec (20 points)"
   ]
  },
  {
   "cell_type": "code",
   "execution_count": 15,
   "id": "d233e39f-560e-497b-9287-1279413a22a4",
   "metadata": {
    "editable": true,
    "slideshow": {
     "slide_type": ""
    },
    "tags": []
   },
   "outputs": [],
   "source": [
    "import gensim\n",
    "from gensim.models import Word2Vec\n",
    "from gensim.utils import simple_preprocess\n",
    "\n",
    "tokenized_descriptions = [nltk.word_tokenize(text) for text in df['description']]\n",
    "model = Word2Vec(sentences=tokenized_descriptions, vector_size=100, window=5, min_count=1, workers=4)"
   ]
  },
  {
   "cell_type": "code",
   "execution_count": 16,
   "id": "41d53c9d-49a3-4b88-9826-0fffa8592b29",
   "metadata": {
    "editable": true,
    "slideshow": {
     "slide_type": ""
    },
    "tags": []
   },
   "outputs": [],
   "source": [
    "from string import punctuation as punct\n",
    "from scipy.spatial import distance\n",
    "\n",
    "def cos_similarity(word, doc, model):\n",
    "    if word not in model.wv:\n",
    "        return 0\n",
    "    target_vec = model.wv[word]\n",
    "    scores = []\n",
    "\n",
    "    for wd in doc.split():\n",
    "        if wd in model.wv:\n",
    "            wd_vec = model.wv[wd]\n",
    "            scores.append(1 - distance.cosine(target_vec, wd_vec))\n",
    "        else:\n",
    "            scores.append(0)\n",
    "\n",
    "    return np.mean(scores)\n",
    "\n",
    "def compute_relevance_Word2Vec(query, doc, model, normalization=False):\n",
    "    score = 0\n",
    "    for wd in query.split():\n",
    "        score += cos_similarity(wd, doc, model)\n",
    "    if normalization:\n",
    "        doc_length = len(doc.split())\n",
    "        if doc_length > 0:\n",
    "            score /= doc_length\n",
    "        else:\n",
    "            score = 0\n",
    "    return score"
   ]
  },
  {
   "cell_type": "code",
   "execution_count": 17,
   "id": "d8d659bd-3136-46ad-a0b4-fa35d9497cfb",
   "metadata": {
    "editable": true,
    "slideshow": {
     "slide_type": ""
    },
    "tags": []
   },
   "outputs": [
    {
     "name": "stdout",
     "output_type": "stream",
     "text": [
      "Query: olymp gold athen\n",
      "Top 10:\n",
      "Index: 9849, Score: 2.9578118920326233, Description: cardin blast way anoth win dodger head dodger stadium lead nl playoff seri\n",
      "Index: 8564, Score: 2.9571001099215612, Description: green bay wi brett favr threw three touchdown pass th consecut start lead green bay packer win st\n",
      "Index: 10751, Score: 2.956276659454618, Description: matt leinart undef usc defeat ucla saturday play orang bowl bowl championship seri titl\n",
      "Index: 11534, Score: 2.9554579754670462, Description: quarterback david green throw yard touchdown pass georgia victori georgia tech saturday\n",
      "Index: 2937, Score: 2.9485160946846007, Description: everyth go astro way day score ton run schedul look favor bullpen start kick even start pitch consist roger clemen\n",
      "Index: 10394, Score: 2.94712816293423, Description: astro charg playoff th consecut home victori cap incred turnaround beat colorado sunday\n",
      "Index: 7570, Score: 2.9470824813842773, Description: st loui cardin houston astro go distanc decid nation leagu championship seri jim edmond came tworun home run bottom th inning give cardin win houston\n",
      "Index: 6398, Score: 2.9467034068974582, Description: indian bat star sachin tendulkar pass fit third test australia nagpur\n",
      "Index: 10411, Score: 2.945839375257492, Description: point guard devin harri play preseason impress maverick coach nelson enough start rooki wisconsin\n",
      "Index: 5504, Score: 2.945763415760464, Description: ap notr dame second ncaa women soccer championship beat ucla penalti kick team tie minut regul overtim sunday\n",
      "Bottom 10:\n",
      "Index: 3892, Score: 2.272706964612007, Description: internet travel agenc orbitz inc orbzo quot profil research agre bought cendant corp cdn quot profil research wednesday report higher\n",
      "Index: 37, Score: 2.266060683876276, Description: new yorksan francisco reuter fragment softwar busi grow\n",
      "Index: 117, Score: 2.260117471218109, Description: new york reuter us stock watch monday oracl corp lta hrefhttpwwwinvestorreuterscomfullquoteaspxtickerorclo targetstocksquickinfofullquotegtorcloltagt peoplesoft inc lta hrefhttpwwwinvestorreuterscomfullquoteaspxtickerpsfto targetstocksquickinfofullquotegtpsftoltagt\n",
      "Index: 1195, Score: 2.256200733560103, Description: new york reuter children place retail store inc lta hrefhttpwwwinvestorreuterscomfullquoteaspxtickerplceo targetstocksquickinfofullquotegtplceoltagt said wednesday buy retail store walt disney co lta hrefhttpwwwinvestorreuterscomfullquoteaspxtickerdisn targetstocksquickinfofullquotegtdisnltagt stock rose percent latemorn trade\n",
      "Index: 3159, Score: 2.2344976920220585, Description: lta hrefhttpwwwvnunetcomnewsgtmicrosoft releas critic explor patchltagt ltfont size colorfffgtltnobrgtvnunetcomltnobrgt\n",
      "Index: 1208, Score: 2.230264099580901, Description: defiantli ward rival oracl corp billion hostil takeov month busi softwar maker peoplesoft inc\n",
      "Index: 2740, Score: 2.2302212708053135, Description: devon energi corp dvna quot profil research monday said set twoforon stock split would buy back percent share compani cash level\n",
      "Index: 10993, Score: 2.1974215780330058, Description: leapfrog enterpris inc lfn quot profil research execut said thursday result quotsignificantli quot previou forecast withdrew estim\n",
      "Index: 5913, Score: 2.154731785878539, Description: exelon corp excn quot profil research tuesday said would sell sith power gener asset dynegi inc\n",
      "Index: 5444, Score: 2.1438337067763014, Description: alamosa hold inc apcso quot profil research acquir airgat pc inc pcsao quot profil research million stock creat largest sprint corp\n",
      "\n",
      "\n",
      "Query: reuter stock friday\n",
      "Top 10:\n",
      "Index: 5617, Score: 2.7706335425376896, Description: cocacola co lta hrefhttpwwwinvestorreuterscomfullquoteaspxtickerkon targetstocksquickinfofullquotegtkonltagt\n",
      "Index: 2293, Score: 2.762382388114929, Description: tokyo stock plung tuesday morn concern higher oil price dollar japanes yen nikkei stock averag\n",
      "Index: 5418, Score: 2.758778088971188, Description: tokyo stock dip monday morn investor took profit recent gain us dollar japanes yen nikkei stock averag issu fell\n",
      "Index: 10063, Score: 2.758575924237569, Description: ap tokyo stock open slightli higher tuesday follow wall street modest gain dollar japanes yen\n",
      "Index: 5403, Score: 2.7562225673879897, Description: tokyo stock edg lower monday morn concern rise oil price us dollar japanes yen\n",
      "Index: 1128, Score: 2.741076834499836, Description: reuter japan nikkei share averag percent midmorn trade monday fall yen help export toyota motor corp\n",
      "Index: 1938, Score: 2.737009917696317, Description: reuter asian stock mostli higher monday led electron telecom firm oil extend gain dollar edg ahead expect us feder reserv interest rate rise tuesday\n",
      "Index: 1941, Score: 2.7367525832219557, Description: tokyo reuter nikkei stock averag rose percent midsess monday investor encourag seek bargain recoveri us stock crude oil price retreat record high\n",
      "Index: 426, Score: 2.732345097064972, Description: singapor reuter export honda motor co led gain japanes share monday rebound us dollar eas concern corpor profit stock elsewher asia slip rise oil price\n",
      "Index: 4413, Score: 2.72925944889293, Description: us consum confid edg lower septemb fall august persist worri job market weigh sentiment report tuesday said\n",
      "Bottom 10:\n",
      "Index: 10584, Score: 2.0174903962761164, Description: injur red sox hurler back take stage appear presid bush two granit state campaign event yesterday\n",
      "Index: 10348, Score: 2.015270865211884, Description: charlott open game wnbarecord straight point sting win minnesota lynx saturday night\n",
      "Index: 3808, Score: 2.0122302889823915, Description: roma end run four defeat win siena seri saturday two goal vincenzo montella francesco totti\n",
      "Index: 1746, Score: 2.0017907836220483, Description: georgetown start patriot leagu play bucknel play first confer game season\n",
      "Index: 4182, Score: 1.9859947208315134, Description: chaz carr score point lead boston univers win rhode island last night nonconfer game kingston ri\n",
      "Index: 4508, Score: 1.9854890890419483, Description: calendar applic one first nonblog use standard\n",
      "Index: 790, Score: 1.9822283811867238, Description: two first half goal within two minut gave monaco win stade renn friday end seri eight ligu game without win\n",
      "Index: 8628, Score: 1.951322700489651, Description: loser saturday marylandnorth carolina state game bowl season may unreach destin\n",
      "Index: 889, Score: 1.8720991805195808, Description: ltstronggtpreviewltstronggt there one europ look\n",
      "Index: 6781, Score: 1.8463989635929465, Description: galileo threaten american live\n",
      "\n",
      "\n",
      "Query: invest market price\n",
      "Top 10:\n",
      "Index: 2914, Score: 2.7714648180537753, Description: samestor sale declin slow novemb decemb net incom increas\n",
      "Index: 5418, Score: 2.767225023947264, Description: tokyo stock dip monday morn investor took profit recent gain us dollar japanes yen nikkei stock averag issu fell\n",
      "Index: 10063, Score: 2.7664675752321877, Description: ap tokyo stock open slightli higher tuesday follow wall street modest gain dollar japanes yen\n",
      "Index: 930, Score: 2.766066762117239, Description: industri activ edg percent august declin util mine output temper gain factori product\n",
      "Index: 10042, Score: 2.757614424595466, Description: reuter dollar hit sixmonth low yen drift near recent eightmonth low versu rise euro friday investor consid effect china interest rate hike currenc us econom outlook\n",
      "Index: 5990, Score: 2.757238285108046, Description: uk retail sale better expect novemb christma shopper flock high street\n",
      "Index: 2293, Score: 2.7567533334096272, Description: tokyo stock plung tuesday morn concern higher oil price dollar japanes yen nikkei stock averag\n",
      "Index: 740, Score: 2.7542511154623592, Description: standard amp poor index drop colgatepalmol co unilev cut profit forecast fuel concern consum demand may falter\n",
      "Index: 7412, Score: 2.7536208454300377, Description: telstra share yield per cent gross dividend basi even though revenu profit rise annual rate per cent\n",
      "Index: 4005, Score: 2.7534982450306416, Description: london dollar hover close eightmonth low euro friday fourmonth trough yen amid worri us econom outlook\n",
      "Bottom 10:\n",
      "Index: 3808, Score: 2.1226115586857, Description: roma end run four defeat win siena seri saturday two goal vincenzo montella francesco totti\n",
      "Index: 10348, Score: 2.11779169862469, Description: charlott open game wnbarecord straight point sting win minnesota lynx saturday night\n",
      "Index: 4182, Score: 2.116849096491933, Description: chaz carr score point lead boston univers win rhode island last night nonconfer game kingston ri\n",
      "Index: 1140, Score: 2.115188059530088, Description: play daynight singlehead yanke stadium saturday one game felt like two distinct hero angel\n",
      "Index: 4508, Score: 2.1036663839726577, Description: calendar applic one first nonblog use standard\n",
      "Index: 790, Score: 2.1015391565859316, Description: two first half goal within two minut gave monaco win stade renn friday end seri eight ligu game without win\n",
      "Index: 10584, Score: 2.0735500305891037, Description: injur red sox hurler back take stage appear presid bush two granit state campaign event yesterday\n",
      "Index: 8628, Score: 2.044684079560367, Description: loser saturday marylandnorth carolina state game bowl season may unreach destin\n",
      "Index: 889, Score: 1.9913654178380966, Description: ltstronggtpreviewltstronggt there one europ look\n",
      "Index: 6781, Score: 1.907918938435614, Description: galileo threaten american live\n",
      "\n",
      "\n"
     ]
    }
   ],
   "source": [
    "# 4.1 train set\n",
    "for query in queries:\n",
    "    scores = []\n",
    "    for i, doc in enumerate(df['description']):\n",
    "        scores.append((i, compute_relevance_Word2Vec(query, doc, model)))\n",
    "    scores.sort(reverse=True, key=lambda x: x[1])\n",
    "    print(f\"Query: {query}\")\n",
    "    print(\"Top 10:\")\n",
    "    for i, score in scores[:10]:\n",
    "        print(f\"Index: {i}, Score: {score}, Description: {df['description'].iloc[i]}\")\n",
    "    print(\"Bottom 10:\")\n",
    "    for i, score in scores[-10:]:\n",
    "        print(f\"Index: {i}, Score: {score}, Description: {df['description'].iloc[i]}\")\n",
    "    print('\\n')"
   ]
  },
  {
   "cell_type": "code",
   "execution_count": 18,
   "id": "ffd684e9-1a87-42f2-890c-233e1568c461",
   "metadata": {
    "editable": true,
    "slideshow": {
     "slide_type": ""
    },
    "tags": []
   },
   "outputs": [
    {
     "name": "stdout",
     "output_type": "stream",
     "text": [
      "Query: olymp gold athen\n",
      "Top 5:\n",
      "Index: 5735, Score: 2.9673777265208106, Description: indianapoli peyton man complet pass yard threw five touchdown indianapoli colt beat houston texan\n",
      "Index: 3031, Score: 2.949510125319163, Description: anaheim score three run eighth inning oakland reliev ralli victori clinch american leagu west titl\n",
      "Index: 4215, Score: 2.9477919467857907, Description: ap biggest comeback postseason basebal histori began david ortiz one greatest day basebal histori\n",
      "Index: 2803, Score: 2.9451296712671007, Description: steve william pick ball barri bond hit th home run thought hand piec histori\n",
      "Index: 2389, Score: 2.9431718358626733, Description: watch miami might among colleg footbal elit one think orang bowl quit yet\n",
      "Bottom 5:\n",
      "Index: 7513, Score: 1.482425191823174, Description: scientist india work himalaya discov new speci monkey stocki shorttail brownhair creatur name macaca munzala arunach macaqu\n",
      "Index: 805, Score: 1.469467681646347, Description: joestar write quotmandrakesoft amp laci launch quotglobetrott quot ultracompact gb bootabl usb harddriv preload mandrakelinux\n",
      "Index: 1378, Score: 1.2404810445649284, Description: ltstronggtidf fall ltstronggt malhotra rejoin st fister\n",
      "Index: 7461, Score: 1.144978329539299, Description: ltstronggtanalysisltstronggt horizont drinker rejoic\n",
      "Index: 1935, Score: 0.8848716244101524, Description: ltstronggtlettersltstronggt postbag miscellan muse\n",
      "\n",
      "\n",
      "Query: reuter stock friday\n",
      "Top 5:\n",
      "Index: 1025, Score: 2.7370459377765655, Description: crude oil futur surg wednesday us energi depart report us oil suppli fell expect crude oil octob deliveri rose dollar\n",
      "Index: 663, Score: 2.7325837686657906, Description: cost barrel oil london dip energi price continu slide price brent crude london fell threeweek low\n",
      "Index: 651, Score: 2.729213097516228, Description: chicago cbsmw discount retail dollar gener report percent rise fiscal secondquart earn help higher sale lower charg\n",
      "Index: 5582, Score: 2.727976815568076, Description: tokyo reuter yen advanc dollar friday shrug weak thirdquart growth figur japan market worri persist huge us deficit\n",
      "Index: 4436, Score: 2.7239079345827517, Description: tokyo reuter tokyo nikkei averag fell percent open monday investor shi away export includ toyota motor corp fall dollar yen stoke concern earn\n",
      "Bottom 5:\n",
      "Index: 7513, Score: 1.349371314048767, Description: scientist india work himalaya discov new speci monkey stocki shorttail brownhair creatur name macaca munzala arunach macaqu\n",
      "Index: 3986, Score: 1.2476154180134045, Description: hear jar jar binkslookalik gungan yell meesa gonna die droid tank shot pointblank may best part game\n",
      "Index: 1378, Score: 1.0943033184323991, Description: ltstronggtidf fall ltstronggt malhotra rejoin st fister\n",
      "Index: 1935, Score: 0.851760745048523, Description: ltstronggtlettersltstronggt postbag miscellan muse\n",
      "Index: 7461, Score: 0.8372923359274864, Description: ltstronggtanalysisltstronggt horizont drinker rejoic\n",
      "\n",
      "\n",
      "Query: invest market price\n",
      "Top 5:\n",
      "Index: 3640, Score: 2.77445961907506, Description: high street perk septemb consum confid fall result higher interest rate concern hous market figur reveal\n",
      "Index: 3252, Score: 2.772279300472953, Description: dow jone industri averag fell percent standard amp poor index percent\n",
      "Index: 651, Score: 2.7683178116293514, Description: chicago cbsmw discount retail dollar gener report percent rise fiscal secondquart earn help higher sale lower charg\n",
      "Index: 6554, Score: 2.764111333033618, Description: walmart world largest retail lower novemb growth forecast amid concern fuel cost may slow christma retail sale\n",
      "Index: 1691, Score: 2.75008853773276, Description: berlin german investor confid drop sharpli septemb key econom indic releas tuesday show amid concern impact high oil price consum demand outlook global economi\n",
      "Bottom 5:\n",
      "Index: 7513, Score: 1.375481598517474, Description: scientist india work himalaya discov new speci monkey stocki shorttail brownhair creatur name macaca munzala arunach macaqu\n",
      "Index: 3986, Score: 1.3015014774659102, Description: hear jar jar binkslookalik gungan yell meesa gonna die droid tank shot pointblank may best part game\n",
      "Index: 1378, Score: 1.127809694835118, Description: ltstronggtidf fall ltstronggt malhotra rejoin st fister\n",
      "Index: 7461, Score: 0.8823162317276001, Description: ltstronggtanalysisltstronggt horizont drinker rejoic\n",
      "Index: 1935, Score: 0.84673922508955, Description: ltstronggtlettersltstronggt postbag miscellan muse\n",
      "\n",
      "\n"
     ]
    }
   ],
   "source": [
    "# 4.2 test set\n",
    "for query in queries:\n",
    "    scores = []\n",
    "    for i, doc in enumerate(test_df['description']):\n",
    "        scores.append((i, compute_relevance_Word2Vec(query, doc, model)))\n",
    "    scores.sort(reverse=True, key=lambda x: x[1])\n",
    "    print(f\"Query: {query}\")\n",
    "    print(\"Top 5:\")\n",
    "    for i, score in scores[:5]:\n",
    "        print(f\"Index: {i}, Score: {score}, Description: {test_df['description'].iloc[i]}\")\n",
    "    print(\"Bottom 5:\")\n",
    "    for i, score in scores[-5:]:\n",
    "        print(f\"Index: {i}, Score: {score}, Description: {test_df['description'].iloc[i]}\")\n",
    "    print('\\n')"
   ]
  },
  {
   "cell_type": "code",
   "execution_count": 19,
   "id": "c3d4800d-a684-4f7b-b7d8-8e3dd2a8820c",
   "metadata": {
    "editable": true,
    "slideshow": {
     "slide_type": ""
    },
    "tags": []
   },
   "outputs": [],
   "source": [
    "# 5 Document Relevance with Vector Space (20 points)"
   ]
  },
  {
   "cell_type": "code",
   "execution_count": 20,
   "id": "3f3be7ae-271f-4fc9-a767-0dee45e46845",
   "metadata": {
    "editable": true,
    "slideshow": {
     "slide_type": ""
    },
    "tags": []
   },
   "outputs": [],
   "source": [
    "# 5.1 Document Relevance with Vector Space Basic Model with Document Length Normalization"
   ]
  },
  {
   "cell_type": "code",
   "execution_count": 21,
   "id": "1c7537f4-bc6c-41fa-bf0e-6669cab281f1",
   "metadata": {
    "editable": true,
    "slideshow": {
     "slide_type": ""
    },
    "tags": []
   },
   "outputs": [
    {
     "name": "stdout",
     "output_type": "stream",
     "text": [
      "Query: olymp gold athen\n",
      "Top 10:\n",
      "Index: 4753, Score: 0.2222222222222222, Description: athen unfortun unit state olymp box tournament gone expect\n",
      "Index: 5786, Score: 0.2, Description: nesterenko belarusian never broken second olymp four round gold second\n",
      "Index: 2807, Score: 0.1875, Description: part bsampl show jump hors ireland gold medal athen olymp stolen intern equestrian feder said yesterday\n",
      "Index: 66, Score: 0.17647058823529413, Description: ireland look certain strip gold medal athen olymp nation popular hors waterford crystal test posit ban drug\n",
      "Index: 829, Score: 0.17647058823529413, Description: athen bigger moment mari lou retton quotnofault vault quot produc america first olymp allaround gold medal women\n",
      "Index: 7413, Score: 0.17647058823529413, Description: fourtim olymp gold medallist matthew pinsent morn announc retir row three month final triumph athen coxless four\n",
      "Index: 5115, Score: 0.15789473684210525, Description: yler hamilton bobbi julich show depth american cycl win gold bronz medal today men individu time trial olymp athen\n",
      "Index: 9909, Score: 0.15789473684210525, Description: athen mia hamm prime end illustri career olymp gold medal power us team take brazil women final thursday today\n",
      "Index: 10171, Score: 0.15789473684210525, Description: athen member australia women eight row crew apologis publicli lambast teammat salli robbin midrac collaps olymp gold medal final\n",
      "Index: 10958, Score: 0.15789473684210525, Description: athen greec sport network hicham el guerrouj morocco came olymp without gold medal two win men meter saturday night\n",
      "Bottom 10:\n",
      "Index: 11990, Score: 0.0, Description: email secur compani frontbridg technolog inc bought messagerit inc irvin california maker technolog archiv email instant messag frontbridg said monday\n",
      "Index: 11991, Score: 0.0, Description: jami mcmurray took one look assembl crowd five dozen journalist bank televis camera roam gang still photograph reconsid wardrob\n",
      "Index: 11992, Score: 0.0, Description: spur led mani point third quarter piston stay aggress san antonio got sloppi end despit detroit valiant comeback spur hung victori\n",
      "Index: 11993, Score: 0.0, Description: britain stephen dodd fire fourunderpar clinch maiden european tour titl threeshot victori china open sunday\n",
      "Index: 11994, Score: 0.0, Description: kabul decemb hamid karzai sworn afghanistan first popularli elect presid tuesday promis bring peac wartorn nation end economi depend narcot\n",
      "Index: 11995, Score: 0.0, Description: us casino giant caesar plan build gambl leisur resort besid new wembley stadium london first foray europ\n",
      "Index: 11996, Score: 0.0, Description: australia took complet control first test day three bangalor build lead india india bowl ad last three wicket parthiv patel make patient\n",
      "Index: 11997, Score: 0.0, Description: bronx ny jon lieber continu septemb hot streak pitch eighth inning derek jeter hit solo homer help new york clinch playoff berth th straight season win tampa bay muchawait makeup\n",
      "Index: 11998, Score: 0.0, Description: tuesday microsoft warn custom sever product vulner flaw way handl jpeg graphic imag\n",
      "Index: 11999, Score: 0.0, Description: reuter judg corrupt trial prime minist silvio berlusconi withdrew thursday decid verdict could hobbl italian leader polit futur\n",
      "\n",
      "\n",
      "Query: reuter stock friday\n",
      "Top 10:\n",
      "Index: 11562, Score: 0.3333333333333333, Description: reuter unpreced departur\n",
      "Index: 5927, Score: 0.2, Description: reuter stock move thursday exxon mobil royal dutch petroleum co\n",
      "Index: 7500, Score: 0.2, Description: reuter anecdot evid public critic\n",
      "Index: 10522, Score: 0.2, Description: reuter romanian prime minist adrian\n",
      "Index: 2812, Score: 0.18181818181818182, Description: reuter oil price perk week low friday forecast colderthannorm weather us\n",
      "Index: 3069, Score: 0.16666666666666666, Description: reuter declin price oil help lift us stock highest level twomonth tuesday\n",
      "Index: 797, Score: 0.15789473684210525, Description: new york reuter us stock bare budg friday afternoon data gave mix pictur economi grew slowerthanexpect pace third quarter\n",
      "Index: 7490, Score: 0.15789473684210525, Description: new york reuter us stock open higher friday oil price retreat tech stock show strength open day fourth quarter\n",
      "Index: 4436, Score: 0.15384615384615385, Description: reuter nba consid play regular season game china commission david stern said friday\n",
      "Index: 722, Score: 0.14285714285714285, Description: new york reuter us stock rose monday dip oil price improv investor sentiment economi\n",
      "Bottom 10:\n",
      "Index: 11989, Score: 0.0, Description: beij aug xinhuanet michael phelp taken haul gold medal athen olymp three win meter butterfli help unit state beat australia x freestyl relay shenzhen daili report\n",
      "Index: 11990, Score: 0.0, Description: email secur compani frontbridg technolog inc bought messagerit inc irvin california maker technolog archiv email instant messag frontbridg said monday\n",
      "Index: 11991, Score: 0.0, Description: jami mcmurray took one look assembl crowd five dozen journalist bank televis camera roam gang still photograph reconsid wardrob\n",
      "Index: 11992, Score: 0.0, Description: spur led mani point third quarter piston stay aggress san antonio got sloppi end despit detroit valiant comeback spur hung victori\n",
      "Index: 11993, Score: 0.0, Description: britain stephen dodd fire fourunderpar clinch maiden european tour titl threeshot victori china open sunday\n",
      "Index: 11994, Score: 0.0, Description: kabul decemb hamid karzai sworn afghanistan first popularli elect presid tuesday promis bring peac wartorn nation end economi depend narcot\n",
      "Index: 11995, Score: 0.0, Description: us casino giant caesar plan build gambl leisur resort besid new wembley stadium london first foray europ\n",
      "Index: 11996, Score: 0.0, Description: australia took complet control first test day three bangalor build lead india india bowl ad last three wicket parthiv patel make patient\n",
      "Index: 11997, Score: 0.0, Description: bronx ny jon lieber continu septemb hot streak pitch eighth inning derek jeter hit solo homer help new york clinch playoff berth th straight season win tampa bay muchawait makeup\n",
      "Index: 11998, Score: 0.0, Description: tuesday microsoft warn custom sever product vulner flaw way handl jpeg graphic imag\n",
      "\n",
      "\n",
      "Query: invest market price\n",
      "Top 10:\n",
      "Index: 2753, Score: 0.16666666666666666, Description: market may stuck neutral portfolio doesnt\n",
      "Index: 4463, Score: 0.14285714285714285, Description: home buyer owner warn yesterday two separ survey properti market hous price continu fall\n",
      "Index: 6652, Score: 0.14285714285714285, Description: techweb integr sale market key new releas\n",
      "Index: 6008, Score: 0.13333333333333333, Description: lead intern energi thinktank said oil boom world market predict price like fall come month\n",
      "Index: 2748, Score: 0.125, Description: oil price tumbl yesterday market took fright signal cost energi may choke back rate growth economi\n",
      "Index: 3520, Score: 0.125, Description: meet opec member week decid whether increas product band price lower amid wildli oscil oil market\n",
      "Index: 4119, Score: 0.125, Description: reuter reign king televis dvd readi reenter market\n",
      "Index: 5580, Score: 0.125, Description: us market subdu finish last week high amid cool oil price dow jone industri averag end\n",
      "Index: 9699, Score: 0.125, Description: optic storag format highli anticip never made market\n",
      "Index: 10307, Score: 0.125, Description: new desktop price target famili student small busi\n",
      "Bottom 10:\n",
      "Index: 11990, Score: 0.0, Description: email secur compani frontbridg technolog inc bought messagerit inc irvin california maker technolog archiv email instant messag frontbridg said monday\n",
      "Index: 11991, Score: 0.0, Description: jami mcmurray took one look assembl crowd five dozen journalist bank televis camera roam gang still photograph reconsid wardrob\n",
      "Index: 11992, Score: 0.0, Description: spur led mani point third quarter piston stay aggress san antonio got sloppi end despit detroit valiant comeback spur hung victori\n",
      "Index: 11993, Score: 0.0, Description: britain stephen dodd fire fourunderpar clinch maiden european tour titl threeshot victori china open sunday\n",
      "Index: 11994, Score: 0.0, Description: kabul decemb hamid karzai sworn afghanistan first popularli elect presid tuesday promis bring peac wartorn nation end economi depend narcot\n",
      "Index: 11995, Score: 0.0, Description: us casino giant caesar plan build gambl leisur resort besid new wembley stadium london first foray europ\n",
      "Index: 11996, Score: 0.0, Description: australia took complet control first test day three bangalor build lead india india bowl ad last three wicket parthiv patel make patient\n",
      "Index: 11997, Score: 0.0, Description: bronx ny jon lieber continu septemb hot streak pitch eighth inning derek jeter hit solo homer help new york clinch playoff berth th straight season win tampa bay muchawait makeup\n",
      "Index: 11998, Score: 0.0, Description: tuesday microsoft warn custom sever product vulner flaw way handl jpeg graphic imag\n",
      "Index: 11999, Score: 0.0, Description: reuter judg corrupt trial prime minist silvio berlusconi withdrew thursday decid verdict could hobbl italian leader polit futur\n",
      "\n",
      "\n"
     ]
    }
   ],
   "source": [
    "# 5.1.1 train set\n",
    "for query in queries:\n",
    "    scores = []\n",
    "    for i, doc in enumerate(df['description']):\n",
    "        scores.append((i, compute_relevance_VSB(query, doc, normalization=True)))\n",
    "    scores.sort(reverse=True, key=lambda x: x[1])\n",
    "    print(f\"Query: {query}\")\n",
    "    print(\"Top 10:\")\n",
    "    for i, score in scores[:10]:\n",
    "        print(f\"Index: {i}, Score: {score}, Description: {df['description'].iloc[i]}\")\n",
    "    print(\"Bottom 10:\")\n",
    "    for i, score in scores[-10:]:\n",
    "        print(f\"Index: {i}, Score: {score}, Description: {df['description'].iloc[i]}\")\n",
    "    print('\\n')"
   ]
  },
  {
   "cell_type": "code",
   "execution_count": 22,
   "id": "ae6fc13c-0377-4d18-8210-89677162866e",
   "metadata": {
    "editable": true,
    "slideshow": {
     "slide_type": ""
    },
    "tags": []
   },
   "outputs": [
    {
     "name": "stdout",
     "output_type": "stream",
     "text": [
      "Query: olymp gold athen\n",
      "Top 5:\n",
      "Index: 138, Score: 3, Description: sheik ahm bin hashr almaktoum earn firstev olymp medal unit arab emir took home gold medal men doubl trap shoot tuesday athen\n",
      "Index: 158, Score: 3, Description: athen reuter weari michael phelp target fourth olymp gold medal athen turn attent wednesday meter individu medley settl secondfastest overal time heat\n",
      "Index: 177, Score: 3, Description: athen dutch cycl great leontien zijlaardvan moorsel emot defend olymp time trial gold medal\n",
      "Index: 179, Score: 3, Description: amsterdam cyclist leontien zijlaardvan moorsel first gold medal netherland athen olymp game wednesday\n",
      "Index: 197, Score: 3, Description: leontien zijlaardvan moorsel netherland wipe tear win gold medal women road cycl individu time trial vouliagmeni olymp centr athen wednesday\n",
      "Bottom 5:\n",
      "Index: 7595, Score: 0, Description: ukrainian presidenti candid viktor yushchenko poison harm known dioxin contain agent orang scientist analyz blood said friday\n",
      "Index: 7596, Score: 0, Description: suppli attract pitch option dwindl daili lost pedro martinez met miss tim hudson resign randi johnson becom yanke red sox struck last night come term free agent matt clement threeyear deal pay righthand neighborhood\n",
      "Index: 7597, Score: 0, Description: like roger clemen almost exactli eight year earlier pedro martinez left red sox appar bitter way treat manag\n",
      "Index: 7598, Score: 0, Description: singapor doctor unit state warn painkil bextra celebrex may link major cardiovascular problem prescrib\n",
      "Index: 7599, Score: 0, Description: ebay plan buy apart home rental servic rentcom million ad alreadi exhaust breadth offer\n",
      "\n",
      "\n",
      "Query: reuter stock friday\n",
      "Top 5:\n",
      "Index: 710, Score: 3, Description: new york reuter us stock futur nearli unchang friday investor await key data economi could determin market earli direct\n",
      "Index: 1928, Score: 3, Description: tokyo reuter nikkei averag fell third straight session hit twoweek close low friday renew earn concern prompt sell tokyo electron ltd soni corp hightech stock\n",
      "Index: 2394, Score: 3, Description: tokyo reuter tokyo nikkei averag drop percent midafternoon friday cours sixth day loss worri high oil price uncertainti us econom market outlook hit broad rang stock\n",
      "Index: 2440, Score: 3, Description: new york reuter us secur regul may file suit morningstar inc provid mutual fund stock research incorrect data publish mutual fund compani said friday\n",
      "Index: 2970, Score: 3, Description: washington reuter feder reserv chairman alan greenspan friday said worri congress would tri thwart effort financi account standard board requir expens stock option\n",
      "Bottom 5:\n",
      "Index: 7594, Score: 0, Description: washington outgo secretari state colin l powel said yesterday doesnt regret public face bush administr intern call war iraq also believ diplomaci make headway contain nuclear threat iran north korea said interview\n",
      "Index: 7596, Score: 0, Description: suppli attract pitch option dwindl daili lost pedro martinez met miss tim hudson resign randi johnson becom yanke red sox struck last night come term free agent matt clement threeyear deal pay righthand neighborhood\n",
      "Index: 7597, Score: 0, Description: like roger clemen almost exactli eight year earlier pedro martinez left red sox appar bitter way treat manag\n",
      "Index: 7598, Score: 0, Description: singapor doctor unit state warn painkil bextra celebrex may link major cardiovascular problem prescrib\n",
      "Index: 7599, Score: 0, Description: ebay plan buy apart home rental servic rentcom million ad alreadi exhaust breadth offer\n",
      "\n",
      "\n",
      "Query: invest market price\n",
      "Top 5:\n",
      "Index: 239, Score: 2, Description: new york reuter share googl inc make nasdaq stock market debut thursday year anticip initi public offer price far initi estim rais billion\n",
      "Index: 320, Score: 2, Description: new york reuter us treasuri price paus breath tuesday blister twosess ralli ran steam though analyst still saw room upsid given larg shortbas market\n",
      "Index: 922, Score: 2, Description: ap unsettl report consum incom set spate profittak wall street monday investor worri tepid economi would erod compani thirdquart earn anoth drop oil price fail shake gloom market\n",
      "Index: 1297, Score: 2, Description: reuter price comput screen expect fall less percent fourth quarter market stabil hope pickup demand christma season usbas research firm said tuesday\n",
      "Index: 1618, Score: 2, Description: ibm push power line server low end market take linux unwrap aggress price seri linuxonli system monday go offer sun microsystem hewlettpackard\n",
      "Bottom 5:\n",
      "Index: 7595, Score: 0, Description: ukrainian presidenti candid viktor yushchenko poison harm known dioxin contain agent orang scientist analyz blood said friday\n",
      "Index: 7596, Score: 0, Description: suppli attract pitch option dwindl daili lost pedro martinez met miss tim hudson resign randi johnson becom yanke red sox struck last night come term free agent matt clement threeyear deal pay righthand neighborhood\n",
      "Index: 7597, Score: 0, Description: like roger clemen almost exactli eight year earlier pedro martinez left red sox appar bitter way treat manag\n",
      "Index: 7598, Score: 0, Description: singapor doctor unit state warn painkil bextra celebrex may link major cardiovascular problem prescrib\n",
      "Index: 7599, Score: 0, Description: ebay plan buy apart home rental servic rentcom million ad alreadi exhaust breadth offer\n",
      "\n",
      "\n"
     ]
    }
   ],
   "source": [
    "# 5.1.2 test set\n",
    "for query in queries:\n",
    "    scores = []\n",
    "    for i, doc in enumerate(test_df['description']):\n",
    "        scores.append((i, compute_relevance_VSB(query, doc)))\n",
    "    scores.sort(reverse=True, key=lambda x: x[1])\n",
    "    print(f\"Query: {query}\")\n",
    "    print(\"Top 5:\")\n",
    "    for i, score in scores[:5]:\n",
    "        print(f\"Index: {i}, Score: {score}, Description: {test_df['description'].iloc[i]}\")\n",
    "    print(\"Bottom 5:\")\n",
    "    for i, score in scores[-5:]:\n",
    "        print(f\"Index: {i}, Score: {score}, Description: {test_df['description'].iloc[i]}\")\n",
    "    print('\\n')"
   ]
  },
  {
   "cell_type": "code",
   "execution_count": 23,
   "id": "c4a95e02-c315-4b7f-9f6d-7988b847a3ab",
   "metadata": {
    "editable": true,
    "slideshow": {
     "slide_type": ""
    },
    "tags": []
   },
   "outputs": [],
   "source": [
    "# 5.2 Document Relevance with Vector Space TF-IDF Model with Document Length Normalization"
   ]
  },
  {
   "cell_type": "code",
   "execution_count": 24,
   "id": "ec86a2ec-c0a8-4c9e-b35b-18fc953bad34",
   "metadata": {
    "editable": true,
    "slideshow": {
     "slide_type": ""
    },
    "tags": []
   },
   "outputs": [
    {
     "name": "stdout",
     "output_type": "stream",
     "text": [
      "Query: olymp gold athen\n",
      "Top 10:\n",
      "Index: 4753, Score: 1.2273888749774444, Description: athen unfortun unit state olymp box tournament gone expect\n",
      "Index: 5786, Score: 1.0857851139636747, Description: nesterenko belarusian never broken second olymp four round gold second\n",
      "Index: 2807, Score: 0.8921354250782174, Description: part bsampl show jump hors ireland gold medal athen olymp stolen intern equestrian feder said yesterday\n",
      "Index: 66, Score: 0.8210274100684195, Description: ireland look certain strip gold medal athen olymp nation popular hors waterford crystal test posit ban drug\n",
      "Index: 829, Score: 0.8210274100684195, Description: athen bigger moment mari lou retton quotnofault vault quot produc america first olymp allaround gold medal women\n",
      "Index: 7413, Score: 0.8210274100684195, Description: fourtim olymp gold medallist matthew pinsent morn announc retir row three month final triumph athen coxless four\n",
      "Index: 2667, Score: 0.8162105940658833, Description: athen greec olymp supremo jacqu rogg today offer gold medal round athen organis superb olymp year doom gloom lead open\n",
      "Index: 6465, Score: 0.7742120316358844, Description: matthew pinsent fourtim olymp gold medallist confirm today retir sport report time yesterday\n",
      "Index: 7367, Score: 0.7742120316358844, Description: didnt take long word tyler hamilton olymp gold medal spread throughout hometown marblehead\n",
      "Index: 3258, Score: 0.7669744232178269, Description: irina lashko put australia strong medal posit go final olymp springboard competit athen\n",
      "Bottom 10:\n",
      "Index: 11990, Score: 0.0, Description: email secur compani frontbridg technolog inc bought messagerit inc irvin california maker technolog archiv email instant messag frontbridg said monday\n",
      "Index: 11991, Score: 0.0, Description: jami mcmurray took one look assembl crowd five dozen journalist bank televis camera roam gang still photograph reconsid wardrob\n",
      "Index: 11992, Score: 0.0, Description: spur led mani point third quarter piston stay aggress san antonio got sloppi end despit detroit valiant comeback spur hung victori\n",
      "Index: 11993, Score: 0.0, Description: britain stephen dodd fire fourunderpar clinch maiden european tour titl threeshot victori china open sunday\n",
      "Index: 11994, Score: 0.0, Description: kabul decemb hamid karzai sworn afghanistan first popularli elect presid tuesday promis bring peac wartorn nation end economi depend narcot\n",
      "Index: 11995, Score: 0.0, Description: us casino giant caesar plan build gambl leisur resort besid new wembley stadium london first foray europ\n",
      "Index: 11996, Score: 0.0, Description: australia took complet control first test day three bangalor build lead india india bowl ad last three wicket parthiv patel make patient\n",
      "Index: 11997, Score: 0.0, Description: bronx ny jon lieber continu septemb hot streak pitch eighth inning derek jeter hit solo homer help new york clinch playoff berth th straight season win tampa bay muchawait makeup\n",
      "Index: 11998, Score: 0.0, Description: tuesday microsoft warn custom sever product vulner flaw way handl jpeg graphic imag\n",
      "Index: 11999, Score: 0.0, Description: reuter judg corrupt trial prime minist silvio berlusconi withdrew thursday decid verdict could hobbl italian leader polit futur\n",
      "\n",
      "\n",
      "Query: reuter stock friday\n",
      "Top 10:\n",
      "Index: 11562, Score: 1.1523142867370761, Description: reuter unpreced departur\n",
      "Index: 5927, Score: 0.7523948995826719, Description: reuter stock move thursday exxon mobil royal dutch petroleum co\n",
      "Index: 7500, Score: 0.6495767679264312, Description: reuter anecdot evid public critic\n",
      "Index: 10522, Score: 0.6495767679264312, Description: reuter romanian prime minist adrian\n",
      "Index: 3069, Score: 0.595701863770853, Description: reuter declin price oil help lift us stock highest level twomonth tuesday\n",
      "Index: 2812, Score: 0.5740959984813917, Description: reuter oil price perk week low friday forecast colderthannorm weather us\n",
      "Index: 7490, Score: 0.5503444515975802, Description: new york reuter us stock open higher friday oil price retreat tech stock show strength open day fourth quarter\n",
      "Index: 4720, Score: 0.5405117539836989, Description: peoplesoft ceo fire back rival say wrong stock transact compani scrambl ahead friday deadlin\n",
      "Index: 942, Score: 0.5366076648062069, Description: truck stock offer extrem attract longterm valuat sc transport\n",
      "Index: 1075, Score: 0.5366076648062069, Description: ocharley stock favor may still pot gold end rainbow\n",
      "Bottom 10:\n",
      "Index: 11989, Score: 0.0, Description: beij aug xinhuanet michael phelp taken haul gold medal athen olymp three win meter butterfli help unit state beat australia x freestyl relay shenzhen daili report\n",
      "Index: 11990, Score: 0.0, Description: email secur compani frontbridg technolog inc bought messagerit inc irvin california maker technolog archiv email instant messag frontbridg said monday\n",
      "Index: 11991, Score: 0.0, Description: jami mcmurray took one look assembl crowd five dozen journalist bank televis camera roam gang still photograph reconsid wardrob\n",
      "Index: 11992, Score: 0.0, Description: spur led mani point third quarter piston stay aggress san antonio got sloppi end despit detroit valiant comeback spur hung victori\n",
      "Index: 11993, Score: 0.0, Description: britain stephen dodd fire fourunderpar clinch maiden european tour titl threeshot victori china open sunday\n",
      "Index: 11994, Score: 0.0, Description: kabul decemb hamid karzai sworn afghanistan first popularli elect presid tuesday promis bring peac wartorn nation end economi depend narcot\n",
      "Index: 11995, Score: 0.0, Description: us casino giant caesar plan build gambl leisur resort besid new wembley stadium london first foray europ\n",
      "Index: 11996, Score: 0.0, Description: australia took complet control first test day three bangalor build lead india india bowl ad last three wicket parthiv patel make patient\n",
      "Index: 11997, Score: 0.0, Description: bronx ny jon lieber continu septemb hot streak pitch eighth inning derek jeter hit solo homer help new york clinch playoff berth th straight season win tampa bay muchawait makeup\n",
      "Index: 11998, Score: 0.0, Description: tuesday microsoft warn custom sever product vulner flaw way handl jpeg graphic imag\n",
      "\n",
      "\n",
      "Query: invest market price\n",
      "Top 10:\n",
      "Index: 2753, Score: 0.8029280811414062, Description: market may stuck neutral portfolio doesnt\n",
      "Index: 3149, Score: 0.6760911140015095, Description: lesli alexand led kind life peopl invest world dream\n",
      "Index: 4291, Score: 0.6760911140015095, Description: halsey minor former cnet guru run privat invest fund\n",
      "Index: 6652, Score: 0.668600586720575, Description: techweb integr sale market key new releas\n",
      "Index: 6610, Score: 0.5924993714326893, Description: lax enforc intellectu properti law hurt busi invest group charg\n",
      "Index: 4119, Score: 0.5688069955967178, Description: reuter reign king televis dvd readi reenter market\n",
      "Index: 9699, Score: 0.5688069955967178, Description: optic storag format highli anticip never made market\n",
      "Index: 10307, Score: 0.5484067917762542, Description: new desktop price target famili student small busi\n",
      "Index: 4463, Score: 0.547361648007979, Description: home buyer owner warn yesterday two separ survey properti market hous price continu fall\n",
      "Index: 10269, Score: 0.5248498758671823, Description: chancellor gordon brown announc longterm plan invest scienc educ hitech industri\n",
      "Bottom 10:\n",
      "Index: 11990, Score: 0.0, Description: email secur compani frontbridg technolog inc bought messagerit inc irvin california maker technolog archiv email instant messag frontbridg said monday\n",
      "Index: 11991, Score: 0.0, Description: jami mcmurray took one look assembl crowd five dozen journalist bank televis camera roam gang still photograph reconsid wardrob\n",
      "Index: 11992, Score: 0.0, Description: spur led mani point third quarter piston stay aggress san antonio got sloppi end despit detroit valiant comeback spur hung victori\n",
      "Index: 11993, Score: 0.0, Description: britain stephen dodd fire fourunderpar clinch maiden european tour titl threeshot victori china open sunday\n",
      "Index: 11994, Score: 0.0, Description: kabul decemb hamid karzai sworn afghanistan first popularli elect presid tuesday promis bring peac wartorn nation end economi depend narcot\n",
      "Index: 11995, Score: 0.0, Description: us casino giant caesar plan build gambl leisur resort besid new wembley stadium london first foray europ\n",
      "Index: 11996, Score: 0.0, Description: australia took complet control first test day three bangalor build lead india india bowl ad last three wicket parthiv patel make patient\n",
      "Index: 11997, Score: 0.0, Description: bronx ny jon lieber continu septemb hot streak pitch eighth inning derek jeter hit solo homer help new york clinch playoff berth th straight season win tampa bay muchawait makeup\n",
      "Index: 11998, Score: 0.0, Description: tuesday microsoft warn custom sever product vulner flaw way handl jpeg graphic imag\n",
      "Index: 11999, Score: 0.0, Description: reuter judg corrupt trial prime minist silvio berlusconi withdrew thursday decid verdict could hobbl italian leader polit futur\n",
      "\n",
      "\n"
     ]
    }
   ],
   "source": [
    "# 5.2.1 train set\n",
    "N = len(df['description'])\n",
    "avgdl = sum([len(d.split()) for d in df['description']]) / N\n",
    "\n",
    "for query in queries:\n",
    "    scores = []\n",
    "    for i, doc in enumerate(df['description']):\n",
    "        scores.append((i, compute_relevance_TF_IDF(query, doc, df['description'], N, avgdl, doc_freq, normalization=True)))\n",
    "    scores.sort(reverse=True, key=lambda x: x[1])\n",
    "    print(f\"Query: {query}\")\n",
    "    print(\"Top 10:\")\n",
    "    for i, score in scores[:10]:\n",
    "        print(f\"Index: {i}, Score: {score}, Description: {df['description'].iloc[i]}\")\n",
    "    print(\"Bottom 10:\")\n",
    "    for i, score in scores[-10:]:\n",
    "        print(f\"Index: {i}, Score: {score}, Description: {df['description'].iloc[i]}\")\n",
    "    print('\\n')"
   ]
  },
  {
   "cell_type": "code",
   "execution_count": 25,
   "id": "f8df191e-fdec-4521-8500-d62e0da7e060",
   "metadata": {
    "editable": true,
    "slideshow": {
     "slide_type": ""
    },
    "tags": []
   },
   "outputs": [
    {
     "name": "stdout",
     "output_type": "stream",
     "text": [
      "Query: olymp gold athen\n",
      "Top 5:\n",
      "Index: 81, Score: 1.401265537708519, Description: athen reuter beach volleybal olymp sellout footstomp success\n",
      "Index: 179, Score: 1.1689672006923002, Description: amsterdam cyclist leontien zijlaardvan moorsel first gold medal netherland athen olymp game wednesday\n",
      "Index: 126, Score: 1.062016179330343, Description: canadian husband love wife led tighten secur olymp venu athen\n",
      "Index: 177, Score: 1.05962677571997, Description: athen dutch cycl great leontien zijlaardvan moorsel emot defend olymp time trial gold medal\n",
      "Index: 2393, Score: 1.05962677571997, Description: american cyclist tyler hamilton keep gold medal athen olymp test lab mishandl blood sampl\n",
      "Bottom 5:\n",
      "Index: 7595, Score: 0.0, Description: ukrainian presidenti candid viktor yushchenko poison harm known dioxin contain agent orang scientist analyz blood said friday\n",
      "Index: 7596, Score: 0.0, Description: suppli attract pitch option dwindl daili lost pedro martinez met miss tim hudson resign randi johnson becom yanke red sox struck last night come term free agent matt clement threeyear deal pay righthand neighborhood\n",
      "Index: 7597, Score: 0.0, Description: like roger clemen almost exactli eight year earlier pedro martinez left red sox appar bitter way treat manag\n",
      "Index: 7598, Score: 0.0, Description: singapor doctor unit state warn painkil bextra celebrex may link major cardiovascular problem prescrib\n",
      "Index: 7599, Score: 0.0, Description: ebay plan buy apart home rental servic rentcom million ad alreadi exhaust breadth offer\n",
      "\n",
      "\n",
      "Query: reuter stock friday\n",
      "Top 5:\n",
      "Index: 4174, Score: 0.8400059687061823, Description: reuter revolution physic made\n",
      "Index: 3260, Score: 0.6122459364430151, Description: usatodaycom great race stock mutual fund mattress mattress\n",
      "Index: 5315, Score: 0.6122459364430151, Description: stock continu depress thing improv celebrex safeti proven\n",
      "Index: 2956, Score: 0.5642639261270525, Description: allentown pa presid bush friday rip sen\n",
      "Index: 4516, Score: 0.5270653163212279, Description: st loui reuter much curs bambino\n",
      "Bottom 5:\n",
      "Index: 7594, Score: 0.0, Description: washington outgo secretari state colin l powel said yesterday doesnt regret public face bush administr intern call war iraq also believ diplomaci make headway contain nuclear threat iran north korea said interview\n",
      "Index: 7596, Score: 0.0, Description: suppli attract pitch option dwindl daili lost pedro martinez met miss tim hudson resign randi johnson becom yanke red sox struck last night come term free agent matt clement threeyear deal pay righthand neighborhood\n",
      "Index: 7597, Score: 0.0, Description: like roger clemen almost exactli eight year earlier pedro martinez left red sox appar bitter way treat manag\n",
      "Index: 7598, Score: 0.0, Description: singapor doctor unit state warn painkil bextra celebrex may link major cardiovascular problem prescrib\n",
      "Index: 7599, Score: 0.0, Description: ebay plan buy apart home rental servic rentcom million ad alreadi exhaust breadth offer\n",
      "\n",
      "\n",
      "Query: invest market price\n",
      "Top 5:\n",
      "Index: 5185, Score: 0.6715606139875793, Description: market research predict percent increas softwar revenu\n",
      "Index: 6389, Score: 0.5712941693046869, Description: techweb chipmak provid linux tool reach grow market\n",
      "Index: 5281, Score: 0.549804531175718, Description: two topic ventur capitalist hate discuss compani invest tank compani didnt invest soar\n",
      "Index: 1938, Score: 0.5443453217925751, Description: consum group complain higher price uk elsewher europ\n",
      "Index: 3672, Score: 0.5401601793269146, Description: quotappl invest heavili technolog edit pictur portabl devic show seem obviou oversight would correct price display\n",
      "Bottom 5:\n",
      "Index: 7595, Score: 0.0, Description: ukrainian presidenti candid viktor yushchenko poison harm known dioxin contain agent orang scientist analyz blood said friday\n",
      "Index: 7596, Score: 0.0, Description: suppli attract pitch option dwindl daili lost pedro martinez met miss tim hudson resign randi johnson becom yanke red sox struck last night come term free agent matt clement threeyear deal pay righthand neighborhood\n",
      "Index: 7597, Score: 0.0, Description: like roger clemen almost exactli eight year earlier pedro martinez left red sox appar bitter way treat manag\n",
      "Index: 7598, Score: 0.0, Description: singapor doctor unit state warn painkil bextra celebrex may link major cardiovascular problem prescrib\n",
      "Index: 7599, Score: 0.0, Description: ebay plan buy apart home rental servic rentcom million ad alreadi exhaust breadth offer\n",
      "\n",
      "\n"
     ]
    }
   ],
   "source": [
    "# 5.2.2 test set\n",
    "N = len(test_df['description'])\n",
    "avgdl = sum([len(d.split()) for d in test_df['description']]) / N\n",
    "\n",
    "for query in queries:\n",
    "    scores = []\n",
    "    for i, doc in enumerate(test_df['description']):\n",
    "        scores.append((i, compute_relevance_TF_IDF(query, doc, test_df['description'], N, avgdl, test_doc_freq, normalization=True)))\n",
    "    scores.sort(reverse=True, key=lambda x: x[1])\n",
    "    print(f\"Query: {query}\")\n",
    "    print(\"Top 5:\")\n",
    "    for i, score in scores[:5]:\n",
    "        print(f\"Index: {i}, Score: {score}, Description: {test_df['description'].iloc[i]}\")\n",
    "    print(\"Bottom 5:\")\n",
    "    for i, score in scores[-5:]:\n",
    "        print(f\"Index: {i}, Score: {score}, Description: {test_df['description'].iloc[i]}\")\n",
    "    print('\\n')"
   ]
  },
  {
   "cell_type": "code",
   "execution_count": 26,
   "id": "b6070dfd-6d45-4728-952f-6c1c605dc2fa",
   "metadata": {
    "editable": true,
    "slideshow": {
     "slide_type": ""
    },
    "tags": []
   },
   "outputs": [],
   "source": [
    "# 5.3 Document Relevance with Word2Vec with Document Length Normalization"
   ]
  },
  {
   "cell_type": "code",
   "execution_count": 27,
   "id": "804dff94-0e1c-47cd-a6ee-95c68353a01b",
   "metadata": {
    "editable": true,
    "slideshow": {
     "slide_type": ""
    },
    "tags": []
   },
   "outputs": [
    {
     "name": "stdout",
     "output_type": "stream",
     "text": [
      "Query: olymp gold athen\n",
      "Top 10:\n",
      "Index: 6828, Score: 0.8900306291050382, Description: ltstronggtopinionltstronggt seed disast\n",
      "Index: 11562, Score: 0.8836497068405151, Description: reuter unpreced departur\n",
      "Index: 367, Score: 0.7181598879396915, Description: ltstronggtcashncarrionltstronggt get em sunday\n",
      "Index: 1846, Score: 0.7039507292211056, Description: ltstronggtanalysisltstronggt two year question\n",
      "Index: 2023, Score: 0.644419863820076, Description: associ press ted bridi\n",
      "Index: 7211, Score: 0.6368850506842136, Description: modest propos orlowski realli\n",
      "Index: 3946, Score: 0.6360215619206429, Description: ltstronggtstorag decisionsltstronggt lord code\n",
      "Index: 9218, Score: 0.5819442105293273, Description: relationship work leav anoth browser\n",
      "Index: 2364, Score: 0.5758741354942322, Description: lawsuit doom stolen patent predict\n",
      "Index: 6781, Score: 0.5731010874733329, Description: galileo threaten american live\n",
      "Bottom 10:\n",
      "Index: 4363, Score: 0.041626535072458656, Description: sinc launch web last week log great feedback rojo first great new austin power logo constantin basturea smash babi subject eye candi check cafepress store chri put togeth hip inde might get girlfriend backpack weve get lot great feedback thank everyon help us beta trial even first rojo extern plugin room mate dylan parker releas plugin firefox name justblogit justblogit mozilla firefox extens allow easi rightclick post weblog\n",
      "Index: 1483, Score: 0.04134327444903015, Description: last day ive addict ghost shell stand alon complex im huge anim fan everyth ive ran across past seem target year old girl sac clearli differ stand alongsid matrix major scienc fiction releas last year sac set year obvious there great deal technolog achiev sinc includ ubiquit internet ai cybernet enhanc main charact stori cybernet modif rang implant way entir bodi replac protagonist major motoko kusanagi almost entir cybernet\n",
      "Index: 9650, Score: 0.04107437115227062, Description: realli like washington post cite endors kerri expert tell us voter difficulti make mind year presidenti elect half nation passion georg w bush pollster say half passion john f kerri least passion mr bush abl share passion certainti reader page know find much critic mr bush term also thing admir find much admir mr kerri life servic knowledg world posit rang issu also thing give us paus ba\n",
      "Index: 625, Score: 0.040487895236939804, Description: oh biggest problem columbu ohio buckey might get run game go beat purdu today pair stori one espn magazin espncom ohio state coach jim tressel first accus former star run back mauric clarett help gain access free car hook booster cash payment second stori trace scam back tressel day coach youngstown state clarett home town ohio state respons clarett he liar he lie suddenli though boilermak arent tressel daunt oppon\n",
      "Index: 5414, Score: 0.03987079075068342, Description: sean harrigan oust post presid billion california public employe retir system vote san francisco california state personnel board pull harrigan calper serv five year elect calper board presid februari harrigan longtim union offici advoc corpor govern reform persuad institut investor withhold vote walt disney michael eisner board chairman led drive withhold vote safeway chief execut steven burd union strike compani ron alvarado succeed harrigan begin jan board spokeswoman said\n",
      "Index: 5354, Score: 0.036149862459406, Description: whilst may claim british staunch alli unit state depit clearli differ agenda world stage recent request made britain addit support name troop black watch move north baghdad help us troop want move upto fallujah met british parliament might polit call hostil honour member morecamb lunesdal ye grim sound geraldin smith ask im concern time weve ask american two week elect cover troop ploy allow bush send troop made decis send troop tomorrow look like step help presid\n",
      "Index: 9828, Score: 0.03427282849634109, Description: absolut price oil reach new high growth economi china india rest asia increas demand oil product problem venezuela strike sabotag norway strike nigeria civil war iraq sabotag russia intern polit hurrican ivan hurrican year disrupt product gulf mexico transport oil atlant next decad eastern europ also requir oil feed grow economi price crude oil led price barrel lift heat oil record natur ga month high though price may eventu fall bit like remain higher accustom howev gloom doom\n",
      "Index: 6879, Score: 0.03352112921613179, Description: adob unveil acrobat adob system launch version acrobat famili desktop applic enhanc softwar allow user leverag acrobat adob pdf process assembl document multipl sourc creat form secur collabor acrobat tighten integr adob livecycl softwar connect document servic busi process integr allow acrobat profession user creat xml pdf form integr backend system also announc adob reader client softwar facilit reader user particip document review access yahoo search function acrobat profession price exist user upgrad acrobat standard price upgrad price acrobat adob system\n",
      "Index: 1981, Score: 0.03335497391467192, Description: googl first burst stock market scene guy run place sound like polit newcom attain public offic first time vow clean place mr smith goe wall street frank capra classic film mr smith goe washington youll recal polit naif jimmi stewart get appoint us senat goe washington triumph entrench cynic wall street version head googler sergey brin larri page sound like silicon valley stewart instead model greedisgood crowd produc stockoff document paid homag warren buffett one wall street straightest shooter board member washington post co\n",
      "Index: 1439, Score: 0.03275441750933274, Description: hoopla bush kerri may pay close attent race go load us polit season ive read good dozen senat outlook blurri eye spin brain kept get lost number lose track ultim like control senat novemb third made senat outlook figur add confus depend think predict bad news probabl wont know control senat novemb third good news your democrat person love one best guess point dust settl democrat probabl control slimmest possibl margin shock everyon know dem chanc take either hous congress think everyon hasnt pay attent read rundown\n",
      "\n",
      "\n",
      "Query: reuter stock friday\n",
      "Top 10:\n",
      "Index: 11562, Score: 0.8850022488170199, Description: reuter unpreced departur\n",
      "Index: 6828, Score: 0.7409924334949917, Description: ltstronggtopinionltstronggt seed disast\n",
      "Index: 2023, Score: 0.6116443574428558, Description: associ press ted bridi\n",
      "Index: 7211, Score: 0.6055083759129047, Description: modest propos orlowski realli\n",
      "Index: 3946, Score: 0.5945300981402397, Description: ltstronggtstorag decisionsltstronggt lord code\n",
      "Index: 367, Score: 0.5934634283185005, Description: ltstronggtcashncarrionltstronggt get em sunday\n",
      "Index: 5617, Score: 0.5541267085075379, Description: cocacola co lta hrefhttpwwwinvestorreuterscomfullquoteaspxtickerkon targetstocksquickinfofullquotegtkonltagt\n",
      "Index: 1846, Score: 0.5259285420179367, Description: ltstronggtanalysisltstronggt two year question\n",
      "Index: 7364, Score: 0.5243341755867005, Description: prevent public interest issu overlook\n",
      "Index: 2364, Score: 0.5143879461288452, Description: lawsuit doom stolen patent predict\n",
      "Bottom 10:\n",
      "Index: 9650, Score: 0.03629968105895915, Description: realli like washington post cite endors kerri expert tell us voter difficulti make mind year presidenti elect half nation passion georg w bush pollster say half passion john f kerri least passion mr bush abl share passion certainti reader page know find much critic mr bush term also thing admir find much admir mr kerri life servic knowledg world posit rang issu also thing give us paus ba\n",
      "Index: 4363, Score: 0.036093633435022046, Description: sinc launch web last week log great feedback rojo first great new austin power logo constantin basturea smash babi subject eye candi check cafepress store chri put togeth hip inde might get girlfriend backpack weve get lot great feedback thank everyon help us beta trial even first rojo extern plugin room mate dylan parker releas plugin firefox name justblogit justblogit mozilla firefox extens allow easi rightclick post weblog\n",
      "Index: 1483, Score: 0.03479421221391164, Description: last day ive addict ghost shell stand alon complex im huge anim fan everyth ive ran across past seem target year old girl sac clearli differ stand alongsid matrix major scienc fiction releas last year sac set year obvious there great deal technolog achiev sinc includ ubiquit internet ai cybernet enhanc main charact stori cybernet modif rang implant way entir bodi replac protagonist major motoko kusanagi almost entir cybernet\n",
      "Index: 4045, Score: 0.033812829263227824, Description: navi tulsa ltbrgt skelli stadium pm ltbrgt shoot navi first start sinc midshipmen havent start sinc first six game finish navi start twice past year team first seven game tulsa improv last season best turnaround colleg footbal lost first two game kansa oklahoma state go would great start would great begin achiev goal theyv set navi coach paul johnson said go make season win go kill lose\n",
      "Index: 625, Score: 0.03371380836075666, Description: oh biggest problem columbu ohio buckey might get run game go beat purdu today pair stori one espn magazin espncom ohio state coach jim tressel first accus former star run back mauric clarett help gain access free car hook booster cash payment second stori trace scam back tressel day coach youngstown state clarett home town ohio state respons clarett he liar he lie suddenli though boilermak arent tressel daunt oppon\n",
      "Index: 9828, Score: 0.03309383045913827, Description: absolut price oil reach new high growth economi china india rest asia increas demand oil product problem venezuela strike sabotag norway strike nigeria civil war iraq sabotag russia intern polit hurrican ivan hurrican year disrupt product gulf mexico transport oil atlant next decad eastern europ also requir oil feed grow economi price crude oil led price barrel lift heat oil record natur ga month high though price may eventu fall bit like remain higher accustom howev gloom doom\n",
      "Index: 6879, Score: 0.03181557154041331, Description: adob unveil acrobat adob system launch version acrobat famili desktop applic enhanc softwar allow user leverag acrobat adob pdf process assembl document multipl sourc creat form secur collabor acrobat tighten integr adob livecycl softwar connect document servic busi process integr allow acrobat profession user creat xml pdf form integr backend system also announc adob reader client softwar facilit reader user particip document review access yahoo search function acrobat profession price exist user upgrad acrobat standard price upgrad price acrobat adob system\n",
      "Index: 5354, Score: 0.0317063078015344, Description: whilst may claim british staunch alli unit state depit clearli differ agenda world stage recent request made britain addit support name troop black watch move north baghdad help us troop want move upto fallujah met british parliament might polit call hostil honour member morecamb lunesdal ye grim sound geraldin smith ask im concern time weve ask american two week elect cover troop ploy allow bush send troop made decis send troop tomorrow look like step help presid\n",
      "Index: 1981, Score: 0.030196753750785413, Description: googl first burst stock market scene guy run place sound like polit newcom attain public offic first time vow clean place mr smith goe wall street frank capra classic film mr smith goe washington youll recal polit naif jimmi stewart get appoint us senat goe washington triumph entrench cynic wall street version head googler sergey brin larri page sound like silicon valley stewart instead model greedisgood crowd produc stockoff document paid homag warren buffett one wall street straightest shooter board member washington post co\n",
      "Index: 1439, Score: 0.028639747875498122, Description: hoopla bush kerri may pay close attent race go load us polit season ive read good dozen senat outlook blurri eye spin brain kept get lost number lose track ultim like control senat novemb third made senat outlook figur add confus depend think predict bad news probabl wont know control senat novemb third good news your democrat person love one best guess point dust settl democrat probabl control slimmest possibl margin shock everyon know dem chanc take either hous congress think everyon hasnt pay attent read rundown\n",
      "\n",
      "\n",
      "Query: invest market price\n",
      "Top 10:\n",
      "Index: 11562, Score: 0.8781515889697604, Description: reuter unpreced departur\n",
      "Index: 6828, Score: 0.7765874498420291, Description: ltstronggtopinionltstronggt seed disast\n",
      "Index: 7211, Score: 0.6182669475674629, Description: modest propos orlowski realli\n",
      "Index: 2023, Score: 0.6171993538737297, Description: associ press ted bridi\n",
      "Index: 367, Score: 0.6145899556577206, Description: ltstronggtcashncarrionltstronggt get em sunday\n",
      "Index: 3946, Score: 0.606229767203331, Description: ltstronggtstorag decisionsltstronggt lord code\n",
      "Index: 1846, Score: 0.5652411915361881, Description: ltstronggtanalysisltstronggt two year question\n",
      "Index: 5617, Score: 0.5456133198738098, Description: cocacola co lta hrefhttpwwwinvestorreuterscomfullquoteaspxtickerkon targetstocksquickinfofullquotegtkonltagt\n",
      "Index: 7364, Score: 0.5401578259468078, Description: prevent public interest issu overlook\n",
      "Index: 2364, Score: 0.5305329394340516, Description: lawsuit doom stolen patent predict\n",
      "Bottom 10:\n",
      "Index: 9650, Score: 0.037255275040658696, Description: realli like washington post cite endors kerri expert tell us voter difficulti make mind year presidenti elect half nation passion georg w bush pollster say half passion john f kerri least passion mr bush abl share passion certainti reader page know find much critic mr bush term also thing admir find much admir mr kerri life servic knowledg world posit rang issu also thing give us paus ba\n",
      "Index: 5414, Score: 0.03717986442190938, Description: sean harrigan oust post presid billion california public employe retir system vote san francisco california state personnel board pull harrigan calper serv five year elect calper board presid februari harrigan longtim union offici advoc corpor govern reform persuad institut investor withhold vote walt disney michael eisner board chairman led drive withhold vote safeway chief execut steven burd union strike compani ron alvarado succeed harrigan begin jan board spokeswoman said\n",
      "Index: 1483, Score: 0.03635782117328832, Description: last day ive addict ghost shell stand alon complex im huge anim fan everyth ive ran across past seem target year old girl sac clearli differ stand alongsid matrix major scienc fiction releas last year sac set year obvious there great deal technolog achiev sinc includ ubiquit internet ai cybernet enhanc main charact stori cybernet modif rang implant way entir bodi replac protagonist major motoko kusanagi almost entir cybernet\n",
      "Index: 4045, Score: 0.03546117534614083, Description: navi tulsa ltbrgt skelli stadium pm ltbrgt shoot navi first start sinc midshipmen havent start sinc first six game finish navi start twice past year team first seven game tulsa improv last season best turnaround colleg footbal lost first two game kansa oklahoma state go would great start would great begin achiev goal theyv set navi coach paul johnson said go make season win go kill lose\n",
      "Index: 625, Score: 0.03497857907901005, Description: oh biggest problem columbu ohio buckey might get run game go beat purdu today pair stori one espn magazin espncom ohio state coach jim tressel first accus former star run back mauric clarett help gain access free car hook booster cash payment second stori trace scam back tressel day coach youngstown state clarett home town ohio state respons clarett he liar he lie suddenli though boilermak arent tressel daunt oppon\n",
      "Index: 9828, Score: 0.03385715033763494, Description: absolut price oil reach new high growth economi china india rest asia increas demand oil product problem venezuela strike sabotag norway strike nigeria civil war iraq sabotag russia intern polit hurrican ivan hurrican year disrupt product gulf mexico transport oil atlant next decad eastern europ also requir oil feed grow economi price crude oil led price barrel lift heat oil record natur ga month high though price may eventu fall bit like remain higher accustom howev gloom doom\n",
      "Index: 6879, Score: 0.03274965236289093, Description: adob unveil acrobat adob system launch version acrobat famili desktop applic enhanc softwar allow user leverag acrobat adob pdf process assembl document multipl sourc creat form secur collabor acrobat tighten integr adob livecycl softwar connect document servic busi process integr allow acrobat profession user creat xml pdf form integr backend system also announc adob reader client softwar facilit reader user particip document review access yahoo search function acrobat profession price exist user upgrad acrobat standard price upgrad price acrobat adob system\n",
      "Index: 5354, Score: 0.03252665301180746, Description: whilst may claim british staunch alli unit state depit clearli differ agenda world stage recent request made britain addit support name troop black watch move north baghdad help us troop want move upto fallujah met british parliament might polit call hostil honour member morecamb lunesdal ye grim sound geraldin smith ask im concern time weve ask american two week elect cover troop ploy allow bush send troop made decis send troop tomorrow look like step help presid\n",
      "Index: 1981, Score: 0.030940704529180005, Description: googl first burst stock market scene guy run place sound like polit newcom attain public offic first time vow clean place mr smith goe wall street frank capra classic film mr smith goe washington youll recal polit naif jimmi stewart get appoint us senat goe washington triumph entrench cynic wall street version head googler sergey brin larri page sound like silicon valley stewart instead model greedisgood crowd produc stockoff document paid homag warren buffett one wall street straightest shooter board member washington post co\n",
      "Index: 1439, Score: 0.029584768879506528, Description: hoopla bush kerri may pay close attent race go load us polit season ive read good dozen senat outlook blurri eye spin brain kept get lost number lose track ultim like control senat novemb third made senat outlook figur add confus depend think predict bad news probabl wont know control senat novemb third good news your democrat person love one best guess point dust settl democrat probabl control slimmest possibl margin shock everyon know dem chanc take either hous congress think everyon hasnt pay attent read rundown\n",
      "\n",
      "\n"
     ]
    }
   ],
   "source": [
    "# 5.3.1 train set\n",
    "for query in queries:\n",
    "    scores = []\n",
    "    for i, doc in enumerate(df['description']):\n",
    "        scores.append((i, compute_relevance_Word2Vec(query, doc, model, normalization=True)))\n",
    "    scores.sort(reverse=True, key=lambda x: x[1])\n",
    "    print(f\"Query: {query}\")\n",
    "    print(\"Top 10:\")\n",
    "    for i, score in scores[:10]:\n",
    "        print(f\"Index: {i}, Score: {score}, Description: {df['description'].iloc[i]}\")\n",
    "    print(\"Bottom 10:\")\n",
    "    for i, score in scores[-10:]:\n",
    "        print(f\"Index: {i}, Score: {score}, Description: {df['description'].iloc[i]}\")\n",
    "    print('\\n')"
   ]
  },
  {
   "cell_type": "code",
   "execution_count": 28,
   "id": "231f29d1-54e7-4849-8866-bdfa754d4239",
   "metadata": {
    "editable": true,
    "slideshow": {
     "slide_type": ""
    },
    "tags": []
   },
   "outputs": [
    {
     "name": "stdout",
     "output_type": "stream",
     "text": [
      "Query: olymp gold athen\n",
      "Top 5:\n",
      "Index: 592, Score: 0.7174954488873482, Description: associ press curt anderson\n",
      "Index: 3985, Score: 0.7049224749207497, Description: sign delay manag expect\n",
      "Index: 4174, Score: 0.6682869717478752, Description: reuter revolution physic made\n",
      "Index: 1104, Score: 0.6632675044238567, Description: ltstronggtopinionltstronggt impot ipod pride\n",
      "Index: 1797, Score: 0.5335991196334362, Description: associ press robert wielaard\n",
      "Bottom 5:\n",
      "Index: 5129, Score: 0.03428537845405185, Description: palmoneupgrad treo faster chip better display unit ship treo one big smartphon success stori last week palmon introduc followon treo higher resolut bypixel tft screen compani claim increas visibl area display make pictur document much clearer also carri remov batteri mb flash memori faster mhz intel xscale processor improv multimedia featur includ builtin mp player digit camera improv lowlight capabl well video captur playback function product expect ship year end carrier add servic price treo palmon\n",
      "Index: 2754, Score: 0.0327692425893687, Description: duke univers supernova earli warn system snew detect ghostlik neutrino particl earliest eman immens explos death throe larg star alert astronom blast see flash snew could allow astronom chanc make unpreced observ earli turnon supernova wrote author articl new system septemb issu new journal physic also note supernova ever observ soon birth big star end live explos gravit collaps complet even brilliant flash light usual announc extrem rare supernova event stay trap insid unseen astronom first hour day\n",
      "Index: 3109, Score: 0.03182678474545654, Description: karen pallarito healthday report healthdaynew determin cold season nip sneez runni nose scratchi throat bud nasti respiratori symptom sidelin there broad array cold remedi might want tri rang overthecount prepar basic ingredi tuck away kitchen pantri whatll combin pain reliev nasal decongest vitamin c echinacea tea honey brim bowl chicken soup turn best advic deal miseri cold principl mother often appli tri coax unruli toddler take nap whatev work\n",
      "Index: 6306, Score: 0.03136560633121168, Description: hear new word vlog amount confus result terrifi appolog abbott costello couldnt resist abbott say blogss first vlogss second blogospher third costello blog publish abbott ye costello blog go video abbott ye costello dont know fellow name abbott well costello well blog publish stori abbott ye costello mean personss name abbott blog costello guy first abbott blog costello first publish abbott blog costello guy write abbott blog publish\n",
      "Index: 7, Score: 0.030563943668907308, Description: foafloaf bloom filter lot interest properti social network whitelist distribut think go one level higher though includ gpgopenpgp key fingerpr distribut foaf file simpl weboftrust base key distribut use foaf includ pgp key fingerprint ident could mean lot includ pgp key fingerprint within foaf file direct friend includ bloom filter pgp key fingerprint entir whitelist sourc foaf file would cours need encrypt whitelist would popul social network client discov new identit\n",
      "\n",
      "\n",
      "Query: reuter stock friday\n",
      "Top 5:\n",
      "Index: 3985, Score: 0.6609814763069153, Description: sign delay manag expect\n",
      "Index: 592, Score: 0.6512844562530518, Description: associ press curt anderson\n",
      "Index: 4174, Score: 0.63956643268466, Description: reuter revolution physic made\n",
      "Index: 1104, Score: 0.5684615783393383, Description: ltstronggtopinionltstronggt impot ipod pride\n",
      "Index: 2709, Score: 0.49093664065003395, Description: associ press rachel konrad\n",
      "Bottom 5:\n",
      "Index: 5129, Score: 0.030848068507630735, Description: palmoneupgrad treo faster chip better display unit ship treo one big smartphon success stori last week palmon introduc followon treo higher resolut bypixel tft screen compani claim increas visibl area display make pictur document much clearer also carri remov batteri mb flash memori faster mhz intel xscale processor improv multimedia featur includ builtin mp player digit camera improv lowlight capabl well video captur playback function product expect ship year end carrier add servic price treo palmon\n",
      "Index: 6306, Score: 0.028979913901963035, Description: hear new word vlog amount confus result terrifi appolog abbott costello couldnt resist abbott say blogss first vlogss second blogospher third costello blog publish abbott ye costello blog go video abbott ye costello dont know fellow name abbott well costello well blog publish stori abbott ye costello mean personss name abbott blog costello guy first abbott blog costello first publish abbott blog costello guy write abbott blog publish\n",
      "Index: 2754, Score: 0.028461442392057376, Description: duke univers supernova earli warn system snew detect ghostlik neutrino particl earliest eman immens explos death throe larg star alert astronom blast see flash snew could allow astronom chanc make unpreced observ earli turnon supernova wrote author articl new system septemb issu new journal physic also note supernova ever observ soon birth big star end live explos gravit collaps complet even brilliant flash light usual announc extrem rare supernova event stay trap insid unseen astronom first hour day\n",
      "Index: 3109, Score: 0.027666086579440797, Description: karen pallarito healthday report healthdaynew determin cold season nip sneez runni nose scratchi throat bud nasti respiratori symptom sidelin there broad array cold remedi might want tri rang overthecount prepar basic ingredi tuck away kitchen pantri whatll combin pain reliev nasal decongest vitamin c echinacea tea honey brim bowl chicken soup turn best advic deal miseri cold principl mother often appli tri coax unruli toddler take nap whatev work\n",
      "Index: 7, Score: 0.0273025900781734, Description: foafloaf bloom filter lot interest properti social network whitelist distribut think go one level higher though includ gpgopenpgp key fingerpr distribut foaf file simpl weboftrust base key distribut use foaf includ pgp key fingerprint ident could mean lot includ pgp key fingerprint within foaf file direct friend includ bloom filter pgp key fingerprint entir whitelist sourc foaf file would cours need encrypt whitelist would popul social network client discov new identit\n",
      "\n",
      "\n",
      "Query: invest market price\n",
      "Top 5:\n",
      "Index: 3985, Score: 0.6803088150918484, Description: sign delay manag expect\n",
      "Index: 592, Score: 0.6630932353436947, Description: associ press curt anderson\n",
      "Index: 4174, Score: 0.6411614045500755, Description: reuter revolution physic made\n",
      "Index: 1104, Score: 0.593735383823514, Description: ltstronggtopinionltstronggt impot ipod pride\n",
      "Index: 1797, Score: 0.4980192966759205, Description: associ press robert wielaard\n",
      "Bottom 5:\n",
      "Index: 5129, Score: 0.03192846813442964, Description: palmoneupgrad treo faster chip better display unit ship treo one big smartphon success stori last week palmon introduc followon treo higher resolut bypixel tft screen compani claim increas visibl area display make pictur document much clearer also carri remov batteri mb flash memori faster mhz intel xscale processor improv multimedia featur includ builtin mp player digit camera improv lowlight capabl well video captur playback function product expect ship year end carrier add servic price treo palmon\n",
      "Index: 6306, Score: 0.029832352565079406, Description: hear new word vlog amount confus result terrifi appolog abbott costello couldnt resist abbott say blogss first vlogss second blogospher third costello blog publish abbott ye costello blog go video abbott ye costello dont know fellow name abbott well costello well blog publish stori abbott ye costello mean personss name abbott blog costello guy first abbott blog costello first publish abbott blog costello guy write abbott blog publish\n",
      "Index: 2754, Score: 0.029432428659066645, Description: duke univers supernova earli warn system snew detect ghostlik neutrino particl earliest eman immens explos death throe larg star alert astronom blast see flash snew could allow astronom chanc make unpreced observ earli turnon supernova wrote author articl new system septemb issu new journal physic also note supernova ever observ soon birth big star end live explos gravit collaps complet even brilliant flash light usual announc extrem rare supernova event stay trap insid unseen astronom first hour day\n",
      "Index: 3109, Score: 0.028656467735905078, Description: karen pallarito healthday report healthdaynew determin cold season nip sneez runni nose scratchi throat bud nasti respiratori symptom sidelin there broad array cold remedi might want tri rang overthecount prepar basic ingredi tuck away kitchen pantri whatll combin pain reliev nasal decongest vitamin c echinacea tea honey brim bowl chicken soup turn best advic deal miseri cold principl mother often appli tri coax unruli toddler take nap whatev work\n",
      "Index: 7, Score: 0.02818829028101768, Description: foafloaf bloom filter lot interest properti social network whitelist distribut think go one level higher though includ gpgopenpgp key fingerpr distribut foaf file simpl weboftrust base key distribut use foaf includ pgp key fingerprint ident could mean lot includ pgp key fingerprint within foaf file direct friend includ bloom filter pgp key fingerprint entir whitelist sourc foaf file would cours need encrypt whitelist would popul social network client discov new identit\n",
      "\n",
      "\n"
     ]
    }
   ],
   "source": [
    "# 5.3.2 test set\n",
    "for query in queries:\n",
    "    scores = []\n",
    "    for i, doc in enumerate(test_df['description']):\n",
    "        scores.append((i, compute_relevance_Word2Vec(query, doc, model, normalization=True)))\n",
    "    scores.sort(reverse=True, key=lambda x: x[1])\n",
    "    print(f\"Query: {query}\")\n",
    "    print(\"Top 5:\")\n",
    "    for i, score in scores[:5]:\n",
    "        print(f\"Index: {i}, Score: {score}, Description: {test_df['description'].iloc[i]}\")\n",
    "    print(\"Bottom 5:\")\n",
    "    for i, score in scores[-5:]:\n",
    "        print(f\"Index: {i}, Score: {score}, Description: {test_df['description'].iloc[i]}\")\n",
    "    print('\\n')"
   ]
  },
  {
   "cell_type": "code",
   "execution_count": null,
   "id": "cb7bea79-7a6c-4680-9445-f9f454cb1f63",
   "metadata": {
    "editable": true,
    "slideshow": {
     "slide_type": ""
    },
    "tags": []
   },
   "outputs": [],
   "source": []
  }
 ],
 "metadata": {
  "kernelspec": {
   "display_name": "nlp",
   "language": "python",
   "name": "nlp"
  },
  "language_info": {
   "codemirror_mode": {
    "name": "ipython",
    "version": 3
   },
   "file_extension": ".py",
   "mimetype": "text/x-python",
   "name": "python",
   "nbconvert_exporter": "python",
   "pygments_lexer": "ipython3",
   "version": "3.12.1"
  }
 },
 "nbformat": 4,
 "nbformat_minor": 5
}
